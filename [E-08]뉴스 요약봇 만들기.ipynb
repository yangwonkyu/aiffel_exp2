{
 "cells": [
  {
   "cell_type": "code",
   "execution_count": 1,
   "id": "97767c1b",
   "metadata": {},
   "outputs": [
    {
     "name": "stderr",
     "output_type": "stream",
     "text": [
      "[nltk_data] Downloading package stopwords to /aiffel/nltk_data...\n",
      "[nltk_data]   Unzipping corpora/stopwords.zip.\n"
     ]
    },
    {
     "name": "stdout",
     "output_type": "stream",
     "text": [
      "=3\n"
     ]
    }
   ],
   "source": [
    "import nltk\n",
    "nltk.download('stopwords')\n",
    "\n",
    "import numpy as np\n",
    "import pandas as pd\n",
    "import os\n",
    "import re\n",
    "import matplotlib.pyplot as plt\n",
    "from nltk.corpus import stopwords\n",
    "from bs4 import BeautifulSoup \n",
    "from tensorflow.keras.preprocessing.text import Tokenizer \n",
    "from tensorflow.keras.preprocessing.sequence import pad_sequences\n",
    "import urllib.request\n",
    "import warnings\n",
    "import urllib.request\n",
    "urllib.request.urlretrieve(\"https://raw.githubusercontent.com/sunnysai12345/News_Summary/master/news_summary_more.csv\", filename=\"news_summary_more.csv\")\n",
    "data = pd.read_csv('news_summary_more.csv', encoding='iso-8859-1')\n",
    "warnings.filterwarnings(\"ignore\", category=UserWarning, module='bs4')\n",
    "\n",
    "print('=3')"
   ]
  },
  {
   "cell_type": "markdown",
   "id": "8e850e86",
   "metadata": {},
   "source": [
    "이번 뉴스 요약본 익스 노드에서는 nltk를 사용한다고 한다.\n",
    "nltk는 Natural Language Toolkit의 약자로 영어, 통계, 자연어를 처리하기 위한 라이브러리라고 한다.\n",
    "그래서 가장 먼저 nltk를 다운받아 주고, 나머지 데이터 처리를 위한 패키지도 불러와준다."
   ]
  },
  {
   "cell_type": "code",
   "execution_count": 2,
   "id": "97c07ca6",
   "metadata": {},
   "outputs": [
    {
     "name": "stdout",
     "output_type": "stream",
     "text": [
      "전체 샘플수 : 98401\n"
     ]
    }
   ],
   "source": [
    "data = pd.read_csv(os.getenv(\"HOME\")+\"/aiffel/news_summary_more.csv\", nrows=100000)\n",
    "print('전체 샘플수 :', (len(data)))"
   ]
  },
  {
   "cell_type": "markdown",
   "id": "c7dfe80b",
   "metadata": {},
   "source": [
    "여기서 10만개 정도의 샘플을 불러와보면 전체 샘플수는 98401개로 나온다."
   ]
  },
  {
   "cell_type": "code",
   "execution_count": 3,
   "id": "d0dfa359",
   "metadata": {},
   "outputs": [
    {
     "name": "stdout",
     "output_type": "stream",
     "text": [
      "Collecting gensim==3.8.3\n",
      "  Downloading gensim-3.8.3.tar.gz (23.4 MB)\n",
      "     |████████████████████████████████| 23.4 MB 5.7 MB/s            \n",
      "\u001b[?25h  Preparing metadata (setup.py) ... \u001b[?25ldone\n",
      "\u001b[?25hRequirement already satisfied: numpy>=1.11.3 in /opt/conda/lib/python3.9/site-packages (from gensim==3.8.3) (1.21.4)\n",
      "Requirement already satisfied: scipy>=0.18.1 in /opt/conda/lib/python3.9/site-packages (from gensim==3.8.3) (1.7.1)\n",
      "Requirement already satisfied: six>=1.5.0 in /opt/conda/lib/python3.9/site-packages (from gensim==3.8.3) (1.16.0)\n",
      "Requirement already satisfied: smart_open>=1.8.1 in /opt/conda/lib/python3.9/site-packages (from gensim==3.8.3) (5.2.1)\n",
      "Building wheels for collected packages: gensim\n",
      "  Building wheel for gensim (setup.py) ... \u001b[?25ldone\n",
      "\u001b[?25h  Created wheel for gensim: filename=gensim-3.8.3-cp39-cp39-linux_x86_64.whl size=24328218 sha256=3901aebf1ec288dc45f61495a54ec025bd68425aee765c4b1a98a457a370d7a3\n",
      "  Stored in directory: /aiffel/.cache/pip/wheels/ca/5d/af/618594ec2f28608c1d6ee7d2b7e95a3e9b06551e3b80a491d6\n",
      "Successfully built gensim\n",
      "Installing collected packages: gensim\n",
      "  Attempting uninstall: gensim\n",
      "    Found existing installation: gensim 4.1.2\n",
      "    Uninstalling gensim-4.1.2:\n",
      "      Successfully uninstalled gensim-4.1.2\n",
      "Successfully installed gensim-3.8.3\n",
      "\u001b[33mWARNING: Running pip as the 'root' user can result in broken permissions and conflicting behaviour with the system package manager. It is recommended to use a virtual environment instead: https://pip.pypa.io/warnings/venv\u001b[0m\n"
     ]
    }
   ],
   "source": [
    "!pip install --upgrade gensim==3.8.3"
   ]
  },
  {
   "cell_type": "markdown",
   "id": "f6b93211",
   "metadata": {},
   "source": [
    "아 여기서 겐심을 다운받았는데, 겐심은 주제 모델링 , 문서 인덱싱 및 대규모 말뭉침의 유사성 검색을 위한 파이썬 라이브러리라고 한다. 대상은 자연어 처리 및 정보 검색 커뮤니티라고 하는데, 사실 다른 분께 질문을 했을 때 이거 다운받아야 나중에 오류가 안뜬다고 해서 받았다."
   ]
  },
  {
   "cell_type": "code",
   "execution_count": 4,
   "id": "9f5014e4",
   "metadata": {},
   "outputs": [
    {
     "data": {
      "text/html": [
       "<div>\n",
       "<style scoped>\n",
       "    .dataframe tbody tr th:only-of-type {\n",
       "        vertical-align: middle;\n",
       "    }\n",
       "\n",
       "    .dataframe tbody tr th {\n",
       "        vertical-align: top;\n",
       "    }\n",
       "\n",
       "    .dataframe thead th {\n",
       "        text-align: right;\n",
       "    }\n",
       "</style>\n",
       "<table border=\"1\" class=\"dataframe\">\n",
       "  <thead>\n",
       "    <tr style=\"text-align: right;\">\n",
       "      <th></th>\n",
       "      <th>headlines</th>\n",
       "      <th>text</th>\n",
       "    </tr>\n",
       "  </thead>\n",
       "  <tbody>\n",
       "    <tr>\n",
       "      <th>0</th>\n",
       "      <td>upGrad learner switches to career in ML &amp; Al w...</td>\n",
       "      <td>Saurav Kant, an alumnus of upGrad and IIIT-B's...</td>\n",
       "    </tr>\n",
       "    <tr>\n",
       "      <th>1</th>\n",
       "      <td>Delhi techie wins free food from Swiggy for on...</td>\n",
       "      <td>Kunal Shah's credit card bill payment platform...</td>\n",
       "    </tr>\n",
       "    <tr>\n",
       "      <th>2</th>\n",
       "      <td>New Zealand end Rohit Sharma-led India's 12-ma...</td>\n",
       "      <td>New Zealand defeated India by 8 wickets in the...</td>\n",
       "    </tr>\n",
       "    <tr>\n",
       "      <th>3</th>\n",
       "      <td>Aegon life iTerm insurance plan helps customer...</td>\n",
       "      <td>With Aegon Life iTerm Insurance plan, customer...</td>\n",
       "    </tr>\n",
       "    <tr>\n",
       "      <th>4</th>\n",
       "      <td>Have known Hirani for yrs, what if MeToo claim...</td>\n",
       "      <td>Speaking about the sexual harassment allegatio...</td>\n",
       "    </tr>\n",
       "  </tbody>\n",
       "</table>\n",
       "</div>"
      ],
      "text/plain": [
       "                                           headlines  \\\n",
       "0  upGrad learner switches to career in ML & Al w...   \n",
       "1  Delhi techie wins free food from Swiggy for on...   \n",
       "2  New Zealand end Rohit Sharma-led India's 12-ma...   \n",
       "3  Aegon life iTerm insurance plan helps customer...   \n",
       "4  Have known Hirani for yrs, what if MeToo claim...   \n",
       "\n",
       "                                                text  \n",
       "0  Saurav Kant, an alumnus of upGrad and IIIT-B's...  \n",
       "1  Kunal Shah's credit card bill payment platform...  \n",
       "2  New Zealand defeated India by 8 wickets in the...  \n",
       "3  With Aegon Life iTerm Insurance plan, customer...  \n",
       "4  Speaking about the sexual harassment allegatio...  "
      ]
     },
     "execution_count": 4,
     "metadata": {},
     "output_type": "execute_result"
    }
   ],
   "source": [
    "data.head()"
   ]
  },
  {
   "cell_type": "markdown",
   "id": "956193ca",
   "metadata": {},
   "source": [
    "데이터를 불러오면, 기존 연습에서 여러가지 뜬것에 반해 headlines와 text만 떴다."
   ]
  },
  {
   "cell_type": "code",
   "execution_count": 5,
   "id": "7842ed99",
   "metadata": {},
   "outputs": [
    {
     "data": {
      "text/html": [
       "<div>\n",
       "<style scoped>\n",
       "    .dataframe tbody tr th:only-of-type {\n",
       "        vertical-align: middle;\n",
       "    }\n",
       "\n",
       "    .dataframe tbody tr th {\n",
       "        vertical-align: top;\n",
       "    }\n",
       "\n",
       "    .dataframe thead th {\n",
       "        text-align: right;\n",
       "    }\n",
       "</style>\n",
       "<table border=\"1\" class=\"dataframe\">\n",
       "  <thead>\n",
       "    <tr style=\"text-align: right;\">\n",
       "      <th></th>\n",
       "      <th>headlines</th>\n",
       "      <th>text</th>\n",
       "    </tr>\n",
       "  </thead>\n",
       "  <tbody>\n",
       "    <tr>\n",
       "      <th>66265</th>\n",
       "      <td>Paytm Mall posts â¹13.63 crore net loss for 2...</td>\n",
       "      <td>Paytm Mall, operated by digital payments start...</td>\n",
       "    </tr>\n",
       "    <tr>\n",
       "      <th>24940</th>\n",
       "      <td>Akshay thanks govt for exempting sanitary pads...</td>\n",
       "      <td>Actor Akshay Kumar has thanked the GST Council...</td>\n",
       "    </tr>\n",
       "    <tr>\n",
       "      <th>79541</th>\n",
       "      <td>Don't support vigilantism, law-order state iss...</td>\n",
       "      <td>As the Supreme Court (SC) was hearing a petiti...</td>\n",
       "    </tr>\n",
       "    <tr>\n",
       "      <th>2653</th>\n",
       "      <td>K'taka auto driver killed by another driver fo...</td>\n",
       "      <td>Karnataka's 67-year-old autorickshaw driver Na...</td>\n",
       "    </tr>\n",
       "    <tr>\n",
       "      <th>11214</th>\n",
       "      <td>RBI is not truly, truly independent: PM advise...</td>\n",
       "      <td>The RBI isn't \"truly, truly independent\" as mo...</td>\n",
       "    </tr>\n",
       "    <tr>\n",
       "      <th>47711</th>\n",
       "      <td>Farah turned down chance to choreograph DDLJ s...</td>\n",
       "      <td>Filmmaker Karan Johar has revealed Farah Khan ...</td>\n",
       "    </tr>\n",
       "    <tr>\n",
       "      <th>44833</th>\n",
       "      <td>Parents donate organs after 8-yr-old dies of b...</td>\n",
       "      <td>The parents of an eight-year-old girl, who was...</td>\n",
       "    </tr>\n",
       "    <tr>\n",
       "      <th>46464</th>\n",
       "      <td>PM favoured private diamond firms against publ...</td>\n",
       "      <td>Congress leader Anand Sharma has accused Prime...</td>\n",
       "    </tr>\n",
       "    <tr>\n",
       "      <th>94533</th>\n",
       "      <td>Dwayne has got only one Vin in his life: Vin D...</td>\n",
       "      <td>Vin Diesel, while explaining that his feud wit...</td>\n",
       "    </tr>\n",
       "    <tr>\n",
       "      <th>9745</th>\n",
       "      <td>I was first offered Salman's role in Maine Pya...</td>\n",
       "      <td>Actor Piyush Mishra has revealed that he was i...</td>\n",
       "    </tr>\n",
       "  </tbody>\n",
       "</table>\n",
       "</div>"
      ],
      "text/plain": [
       "                                               headlines  \\\n",
       "66265  Paytm Mall posts â¹13.63 crore net loss for 2...   \n",
       "24940  Akshay thanks govt for exempting sanitary pads...   \n",
       "79541  Don't support vigilantism, law-order state iss...   \n",
       "2653   K'taka auto driver killed by another driver fo...   \n",
       "11214  RBI is not truly, truly independent: PM advise...   \n",
       "47711  Farah turned down chance to choreograph DDLJ s...   \n",
       "44833  Parents donate organs after 8-yr-old dies of b...   \n",
       "46464  PM favoured private diamond firms against publ...   \n",
       "94533  Dwayne has got only one Vin in his life: Vin D...   \n",
       "9745   I was first offered Salman's role in Maine Pya...   \n",
       "\n",
       "                                                    text  \n",
       "66265  Paytm Mall, operated by digital payments start...  \n",
       "24940  Actor Akshay Kumar has thanked the GST Council...  \n",
       "79541  As the Supreme Court (SC) was hearing a petiti...  \n",
       "2653   Karnataka's 67-year-old autorickshaw driver Na...  \n",
       "11214  The RBI isn't \"truly, truly independent\" as mo...  \n",
       "47711  Filmmaker Karan Johar has revealed Farah Khan ...  \n",
       "44833  The parents of an eight-year-old girl, who was...  \n",
       "46464  Congress leader Anand Sharma has accused Prime...  \n",
       "94533  Vin Diesel, while explaining that his feud wit...  \n",
       "9745   Actor Piyush Mishra has revealed that he was i...  "
      ]
     },
     "execution_count": 5,
     "metadata": {},
     "output_type": "execute_result"
    }
   ],
   "source": [
    "data = data[['headlines','text']]\n",
    "data.head()\n",
    "\n",
    "#랜덤한 15개 샘플 출력\n",
    "data.sample(10)"
   ]
  },
  {
   "cell_type": "markdown",
   "id": "08874466",
   "metadata": {},
   "source": [
    "이 데이터들 중에 샘플로 10개를 뽑으면 위와같은 결과가 나온다."
   ]
  },
  {
   "cell_type": "code",
   "execution_count": 6,
   "id": "39a34af4",
   "metadata": {},
   "outputs": [
    {
     "name": "stdout",
     "output_type": "stream",
     "text": [
      "Text 열에서 중복을 배제한 유일한 샘플의 수 : 98280\n",
      "Summary 열에서 중복을 배제한 유일한 샘플의 수 : 98360\n"
     ]
    }
   ],
   "source": [
    "print('Text 열에서 중복을 배제한 유일한 샘플의 수 :', data['headlines'].nunique())\n",
    "print('Summary 열에서 중복을 배제한 유일한 샘플의 수 :', data['text'].nunique())"
   ]
  },
  {
   "cell_type": "markdown",
   "id": "3f40f75e",
   "metadata": {},
   "source": [
    "그런데 데이터들 중에서 중복된 것들이 있을 수 있으니 제거를 해주면\n",
    "위와 같은 수가 나온다.\n",
    "근데 전체 샘플 수에 비해서 그렇게 제거된건 없는거 같다."
   ]
  },
  {
   "cell_type": "code",
   "execution_count": 7,
   "id": "a37b39fb",
   "metadata": {},
   "outputs": [
    {
     "name": "stdout",
     "output_type": "stream",
     "text": [
      "전체 샘플수 : 98280\n"
     ]
    }
   ],
   "source": [
    "# inplace=True 를 설정하면 DataFrame 타입 값을 return 하지 않고 data 내부를 직접적으로 바꿉니다\n",
    "data.drop_duplicates(subset = ['headlines'], inplace=True)\n",
    "print('전체 샘플수 :', (len(data)))"
   ]
  },
  {
   "cell_type": "markdown",
   "id": "7d8b85f5",
   "metadata": {},
   "source": [
    "이것도 중복을 제거하는 방법인데, data.drop_duplicates이걸 쓰면 한줄로 끝낼 수 있어서 간편하다."
   ]
  },
  {
   "cell_type": "code",
   "execution_count": 8,
   "id": "5db20cf2",
   "metadata": {},
   "outputs": [
    {
     "name": "stdout",
     "output_type": "stream",
     "text": [
      "headlines    0\n",
      "text         0\n",
      "dtype: int64\n"
     ]
    }
   ],
   "source": [
    "print(data.isnull().sum())"
   ]
  },
  {
   "cell_type": "markdown",
   "id": "4f51429e",
   "metadata": {},
   "source": [
    "중복을 제거했지만, Null값이 남아있을 수 있으니 한번 확인해봤다.\n",
    "근데 하나도 없다."
   ]
  },
  {
   "cell_type": "code",
   "execution_count": 9,
   "id": "6956ce9d",
   "metadata": {},
   "outputs": [
    {
     "name": "stdout",
     "output_type": "stream",
     "text": [
      "전체 샘플수 : 98280\n"
     ]
    }
   ],
   "source": [
    "data.dropna(axis=0, inplace=True)\n",
    "print('전체 샘플수 :', (len(data)))"
   ]
  },
  {
   "cell_type": "markdown",
   "id": "5b81e4be",
   "metadata": {},
   "source": [
    "그래서 여기서 또 확인해도 위에 전체 샘플수와 같다."
   ]
  },
  {
   "cell_type": "code",
   "execution_count": 10,
   "id": "aa8e0410",
   "metadata": {},
   "outputs": [
    {
     "name": "stdout",
     "output_type": "stream",
     "text": [
      "정규화 사전의 수:  120\n"
     ]
    }
   ],
   "source": [
    "contractions = {\"ain't\": \"is not\", \"aren't\": \"are not\",\"can't\": \"cannot\", \"'cause\": \"because\", \"could've\": \"could have\", \"couldn't\": \"could not\",\n",
    "                           \"didn't\": \"did not\",  \"doesn't\": \"does not\", \"don't\": \"do not\", \"hadn't\": \"had not\", \"hasn't\": \"has not\", \"haven't\": \"have not\",\n",
    "                           \"he'd\": \"he would\",\"he'll\": \"he will\", \"he's\": \"he is\", \"how'd\": \"how did\", \"how'd'y\": \"how do you\", \"how'll\": \"how will\", \"how's\": \"how is\",\n",
    "                           \"I'd\": \"I would\", \"I'd've\": \"I would have\", \"I'll\": \"I will\", \"I'll've\": \"I will have\",\"I'm\": \"I am\", \"I've\": \"I have\", \"i'd\": \"i would\",\n",
    "                           \"i'd've\": \"i would have\", \"i'll\": \"i will\",  \"i'll've\": \"i will have\",\"i'm\": \"i am\", \"i've\": \"i have\", \"isn't\": \"is not\", \"it'd\": \"it would\",\n",
    "                           \"it'd've\": \"it would have\", \"it'll\": \"it will\", \"it'll've\": \"it will have\",\"it's\": \"it is\", \"let's\": \"let us\", \"ma'am\": \"madam\",\n",
    "                           \"mayn't\": \"may not\", \"might've\": \"might have\",\"mightn't\": \"might not\",\"mightn't've\": \"might not have\", \"must've\": \"must have\",\n",
    "                           \"mustn't\": \"must not\", \"mustn't've\": \"must not have\", \"needn't\": \"need not\", \"needn't've\": \"need not have\",\"o'clock\": \"of the clock\",\n",
    "                           \"oughtn't\": \"ought not\", \"oughtn't've\": \"ought not have\", \"shan't\": \"shall not\", \"sha'n't\": \"shall not\", \"shan't've\": \"shall not have\",\n",
    "                           \"she'd\": \"she would\", \"she'd've\": \"she would have\", \"she'll\": \"she will\", \"she'll've\": \"she will have\", \"she's\": \"she is\",\n",
    "                           \"should've\": \"should have\", \"shouldn't\": \"should not\", \"shouldn't've\": \"should not have\", \"so've\": \"so have\",\"so's\": \"so as\",\n",
    "                           \"this's\": \"this is\",\"that'd\": \"that would\", \"that'd've\": \"that would have\", \"that's\": \"that is\", \"there'd\": \"there would\",\n",
    "                           \"there'd've\": \"there would have\", \"there's\": \"there is\", \"here's\": \"here is\",\"they'd\": \"they would\", \"they'd've\": \"they would have\",\n",
    "                           \"they'll\": \"they will\", \"they'll've\": \"they will have\", \"they're\": \"they are\", \"they've\": \"they have\", \"to've\": \"to have\",\n",
    "                           \"wasn't\": \"was not\", \"we'd\": \"we would\", \"we'd've\": \"we would have\", \"we'll\": \"we will\", \"we'll've\": \"we will have\", \"we're\": \"we are\",\n",
    "                           \"we've\": \"we have\", \"weren't\": \"were not\", \"what'll\": \"what will\", \"what'll've\": \"what will have\", \"what're\": \"what are\",\n",
    "                           \"what's\": \"what is\", \"what've\": \"what have\", \"when's\": \"when is\", \"when've\": \"when have\", \"where'd\": \"where did\", \"where's\": \"where is\",\n",
    "                           \"where've\": \"where have\", \"who'll\": \"who will\", \"who'll've\": \"who will have\", \"who's\": \"who is\", \"who've\": \"who have\",\n",
    "                           \"why's\": \"why is\", \"why've\": \"why have\", \"will've\": \"will have\", \"won't\": \"will not\", \"won't've\": \"will not have\",\n",
    "                           \"would've\": \"would have\", \"wouldn't\": \"would not\", \"wouldn't've\": \"would not have\", \"y'all\": \"you all\",\n",
    "                           \"y'all'd\": \"you all would\",\"y'all'd've\": \"you all would have\",\"y'all're\": \"you all are\",\"y'all've\": \"you all have\",\n",
    "                           \"you'd\": \"you would\", \"you'd've\": \"you would have\", \"you'll\": \"you will\", \"you'll've\": \"you will have\",\n",
    "                           \"you're\": \"you are\", \"you've\": \"you have\"}\n",
    "\n",
    "print(\"정규화 사전의 수: \", len(contractions))"
   ]
  },
  {
   "cell_type": "markdown",
   "id": "46c8a82b",
   "metadata": {},
   "source": [
    "텍스트를 정규화 시켜줘서 연산량을 줄여준다."
   ]
  },
  {
   "cell_type": "code",
   "execution_count": 11,
   "id": "d15ff50b",
   "metadata": {},
   "outputs": [
    {
     "name": "stdout",
     "output_type": "stream",
     "text": [
      "불용어 개수 : 179\n",
      "['i', 'me', 'my', 'myself', 'we', 'our', 'ours', 'ourselves', 'you', \"you're\", \"you've\", \"you'll\", \"you'd\", 'your', 'yours', 'yourself', 'yourselves', 'he', 'him', 'his', 'himself', 'she', \"she's\", 'her', 'hers', 'herself', 'it', \"it's\", 'its', 'itself', 'they', 'them', 'their', 'theirs', 'themselves', 'what', 'which', 'who', 'whom', 'this', 'that', \"that'll\", 'these', 'those', 'am', 'is', 'are', 'was', 'were', 'be', 'been', 'being', 'have', 'has', 'had', 'having', 'do', 'does', 'did', 'doing', 'a', 'an', 'the', 'and', 'but', 'if', 'or', 'because', 'as', 'until', 'while', 'of', 'at', 'by', 'for', 'with', 'about', 'against', 'between', 'into', 'through', 'during', 'before', 'after', 'above', 'below', 'to', 'from', 'up', 'down', 'in', 'out', 'on', 'off', 'over', 'under', 'again', 'further', 'then', 'once', 'here', 'there', 'when', 'where', 'why', 'how', 'all', 'any', 'both', 'each', 'few', 'more', 'most', 'other', 'some', 'such', 'no', 'nor', 'not', 'only', 'own', 'same', 'so', 'than', 'too', 'very', 's', 't', 'can', 'will', 'just', 'don', \"don't\", 'should', \"should've\", 'now', 'd', 'll', 'm', 'o', 're', 've', 'y', 'ain', 'aren', \"aren't\", 'couldn', \"couldn't\", 'didn', \"didn't\", 'doesn', \"doesn't\", 'hadn', \"hadn't\", 'hasn', \"hasn't\", 'haven', \"haven't\", 'isn', \"isn't\", 'ma', 'mightn', \"mightn't\", 'mustn', \"mustn't\", 'needn', \"needn't\", 'shan', \"shan't\", 'shouldn', \"shouldn't\", 'wasn', \"wasn't\", 'weren', \"weren't\", 'won', \"won't\", 'wouldn', \"wouldn't\"]\n"
     ]
    }
   ],
   "source": [
    "print('불용어 개수 :', len(stopwords.words('english') ))\n",
    "print(stopwords.words('english'))"
   ]
  },
  {
   "cell_type": "markdown",
   "id": "9b3e518c",
   "metadata": {},
   "source": [
    "일반적인 텍스트에서는 자주 나오지만, 자연어를 처리할 때 실질적으로 별 도움이 되지 않는 단어들이 존재한다고 한다.\n",
    "이런것들을 불용어라고 하는데 이 불용어들을 확인해보니 179개가 있다."
   ]
  },
  {
   "cell_type": "code",
   "execution_count": 12,
   "id": "0e5a56f7",
   "metadata": {},
   "outputs": [
    {
     "name": "stdout",
     "output_type": "stream",
     "text": [
      "=3\n"
     ]
    }
   ],
   "source": [
    "# 데이터 전처리 함수\n",
    "def preprocess_sentence(sentence, remove_stopwords=True):\n",
    "    sentence = sentence.lower() # 텍스트 소문자화\n",
    "    sentence = BeautifulSoup(sentence, \"lxml\").text # <br />, <a href = ...> 등의 html 태그 제거\n",
    "    sentence = re.sub(r'\\([^)]*\\)', '', sentence) # 괄호로 닫힌 문자열 (...) 제거 Ex) my husband (and myself!) for => my husband for\n",
    "    sentence = re.sub('\"','', sentence) # 쌍따옴표 \" 제거\n",
    "    sentence = ' '.join([contractions[t] if t in contractions else t for t in sentence.split(\" \")]) # 약어 정규화\n",
    "    sentence = re.sub(r\"'s\\b\",\"\", sentence) # 소유격 제거. Ex) roland's -> roland\n",
    "    sentence = re.sub(\"[^a-zA-Z]\", \" \", sentence) # 영어 외 문자(숫자, 특수문자 등) 공백으로 변환\n",
    "    sentence = re.sub('[m]{2,}', 'mm', sentence) # m이 3개 이상이면 2개로 변경. Ex) ummmmmmm yeah -> umm yeah\n",
    "    \n",
    "    # 불용어 제거 (Text)\n",
    "    if remove_stopwords:\n",
    "        tokens = ' '.join(word for word in sentence.split() if not word in stopwords.words('english') if len(word) > 1)\n",
    "    # 불용어 미제거 (text)\n",
    "    else:\n",
    "        tokens = ' '.join(word for word in sentence.split() if len(word) > 1)\n",
    "    return tokens\n",
    "print('=3')"
   ]
  },
  {
   "cell_type": "markdown",
   "id": "f069850e",
   "metadata": {},
   "source": [
    "방금 위에서 확인했던 불용어들을 제거한다.\n",
    "요약 결과문이 자연스러운 문장이 되려면 이 불용어들이 text에는 남아 있는게 더 좋을거 같다고 생각이 들어 함수 인자\n",
    "remove_stopwords를 추가하고 거기에 if를 추가하였다."
   ]
  },
  {
   "cell_type": "code",
   "execution_count": 13,
   "id": "67aa1ff2",
   "metadata": {},
   "outputs": [
    {
     "name": "stdout",
     "output_type": "stream",
     "text": [
      "headlines:  everything bought great infact ordered twice third ordered wasfor mother father\n",
      "text: great way to start the day\n"
     ]
    }
   ],
   "source": [
    "temp_headlines = 'Everything I bought was great, infact I ordered twice and the third ordered was<br />for my mother and father.'\n",
    "temp_text = 'Great way to start (or finish) the day!!!'\n",
    "\n",
    "print(\"headlines: \", preprocess_sentence(temp_headlines))\n",
    "print(\"text:\", preprocess_sentence(temp_text, False))  # 불용어를 제거하지 않습니다."
   ]
  },
  {
   "cell_type": "markdown",
   "id": "bb3952c4",
   "metadata": {},
   "source": [
    "불용어를 제거 한 후 headlines과 text를 불러내서 결과를 확인해 보았다.\n",
    "알파벳들이 다 소문자고, 아까 위에서 불러냈을 때 봤었던 이상한 문양같은게 없다."
   ]
  },
  {
   "cell_type": "code",
   "execution_count": 14,
   "id": "887a22d2",
   "metadata": {},
   "outputs": [
    {
     "name": "stdout",
     "output_type": "stream",
     "text": [
      "headlines 전처리 후 결과:  ['upgrad learner switches career ml al salary hike', 'delhi techie wins free food swiggy one year cred', 'new zealand end rohit sharma led india match winning streak', 'aegon life iterm insurance plan helps customers save tax', 'known hirani yrs metoo claims true sonam']\n"
     ]
    }
   ],
   "source": [
    "clean_headlines = []\n",
    "# 전체 headlines 데이터에 대한 전처리 : 10분 이상 시간이 걸릴 수 있습니다. \n",
    "for s in data['headlines']:\n",
    "    clean_headlines.append(preprocess_sentence(s))\n",
    "\n",
    "# 전처리 후 출력\n",
    "print(\"headlines 전처리 후 결과: \", clean_headlines[:5])"
   ]
  },
  {
   "cell_type": "markdown",
   "id": "28df8cd7",
   "metadata": {},
   "source": [
    "방금까지 잘 작동된거 같으니, 훈련 데이터 전체에 대해 전처리를 해볼 것이다.\n",
    "그런데 headlines만 불용어를 제거하고 text는 아직 제거하지 않을거니깐 따로따로 호출을 할 것이다.\n",
    "그러므로 먼저 headlines부터 불러내서 전처리를 한 후에 위에서부터 5개를 출력해 보았다."
   ]
  },
  {
   "cell_type": "code",
   "execution_count": 15,
   "id": "58a15553",
   "metadata": {},
   "outputs": [
    {
     "name": "stdout",
     "output_type": "stream",
     "text": [
      "text 전처리 후 결과:  ['saurav kant an alumnus of upgrad and iiit pg program in machine learning and artificial intelligence was sr systems engineer at infosys with almost years of work experience the program and upgrad degree career support helped him transition to data scientist at tech mahindra with salary hike upgrad online power learning has powered lakh careers', 'kunal shah credit card bill payment platform cred gave users chance to win free food from swiggy for one year pranav kaushik delhi techie bagged this reward after spending cred coins users get one cred coin per rupee of bill paid which can be used to avail rewards from brands like ixigo bookmyshow ubereats cult fit and more', 'new zealand defeated india by wickets in the fourth odi at hamilton on thursday to win their first match of the five match odi series india lost an international match under rohit sharma captaincy after consecutive victories dating back to march the match witnessed india getting all out for their seventh lowest total in odi cricket history', 'with aegon life iterm insurance plan customers can enjoy tax benefits on your premiums paid and save up to on taxes the plan provides life cover up to the age of years also customers have options to insure against critical illnesses disability and accidental death benefit rider with life cover up to the age of years', 'speaking about the sexual harassment allegations against rajkumar hirani sonam kapoor said have known hirani for many years what if it is not true the metoo movement will get derailed in the metoo movement always believe woman but in this case we need to reserve our judgment she added hirani has been accused by an assistant who worked in sanju']\n"
     ]
    }
   ],
   "source": [
    "clean_text = []\n",
    "# 전체 text 데이터에 대한 전처리 : 5분 이상 시간이 걸릴 수 있습니다. \n",
    "for s in data['text']:\n",
    "    clean_text.append(preprocess_sentence(s, False))\n",
    "\n",
    "print(\"text 전처리 후 결과: \", clean_text[:5])"
   ]
  },
  {
   "cell_type": "markdown",
   "id": "1a74ef14",
   "metadata": {},
   "source": [
    "위에 headlines을 했으니 이번엔 text로 해봤다.\n",
    "text가 훨씬 길게 출력되었다."
   ]
  },
  {
   "cell_type": "code",
   "execution_count": 16,
   "id": "76bab0aa",
   "metadata": {},
   "outputs": [
    {
     "name": "stdout",
     "output_type": "stream",
     "text": [
      "=3\n"
     ]
    }
   ],
   "source": [
    "data['headlines'] = clean_headlines\n",
    "data['text'] = clean_text\n",
    "\n",
    "# 빈 값을 Null 값으로 변환\n",
    "data.replace('', np.nan, inplace=True)\n",
    "print('=3')"
   ]
  },
  {
   "cell_type": "markdown",
   "id": "3fd129ca",
   "metadata": {},
   "source": [
    "이렇게 위에서 전처리 과정을 한 후에 빈칸이 있을 수 있으니 빈칸을 Null로 변환시켰다."
   ]
  },
  {
   "cell_type": "code",
   "execution_count": 17,
   "id": "cef6ebe9",
   "metadata": {},
   "outputs": [
    {
     "data": {
      "text/plain": [
       "headlines    0\n",
       "text         0\n",
       "dtype: int64"
      ]
     },
     "execution_count": 17,
     "metadata": {},
     "output_type": "execute_result"
    }
   ],
   "source": [
    "data.isnull().sum()"
   ]
  },
  {
   "cell_type": "markdown",
   "id": "a8c3864c",
   "metadata": {},
   "source": [
    "그 다음 그 null값이 몇개나 있나 한번 확인해 봤는데 하나도 없다."
   ]
  },
  {
   "cell_type": "code",
   "execution_count": 18,
   "id": "2e91ad19",
   "metadata": {},
   "outputs": [
    {
     "name": "stdout",
     "output_type": "stream",
     "text": [
      "전체 샘플수 : 98280\n"
     ]
    }
   ],
   "source": [
    "data.dropna(axis=0, inplace=True)\n",
    "print('전체 샘플수 :', (len(data)))"
   ]
  },
  {
   "cell_type": "markdown",
   "id": "df1ef3f3",
   "metadata": {},
   "source": [
    "그래서 전체 샘플수는 아까랑 같은 98280"
   ]
  },
  {
   "cell_type": "code",
   "execution_count": 66,
   "id": "6ee2831c",
   "metadata": {},
   "outputs": [
    {
     "name": "stdout",
     "output_type": "stream",
     "text": [
      "헤드라인의 최소 길이 : 1\n",
      "헤드라인의 최대 길이 : 13\n",
      "헤드라인의 평균 길이 : 7.1367317867317865\n",
      "텍스트의 최소 길이 : 1\n",
      "텍스트의 최대 길이 : 69\n",
      "텍스트의 평균 길이 : 56.18174603174603\n"
     ]
    },
    {
     "data": {
      "image/png": "[encoded data removed]",
      "text/plain": [
       "<Figure size 432x288 with 2 Axes>"
      ]
     },
     "metadata": {
      "needs_background": "light"
     },
     "output_type": "display_data"
    },
    {
     "data": {
      "image/png": "[encoded data removed]",
      "text/plain": [
       "<Figure size 432x288 with 1 Axes>"
      ]
     },
     "metadata": {
      "needs_background": "light"
     },
     "output_type": "display_data"
    },
    {
     "data": {
      "image/png": "[encoded data removed]",
      "text/plain": [
       "<Figure size 432x288 with 1 Axes>"
      ]
     },
     "metadata": {
      "needs_background": "light"
     },
     "output_type": "display_data"
    }
   ],
   "source": [
    "# 길이 분포 출력\n",
    "import matplotlib.pyplot as plt\n",
    "\n",
    "headlines_len = [len(s.split()) for s in data['headlines']]\n",
    "text_len = [len(s.split()) for s in data['text']]\n",
    "\n",
    "print('헤드라인의 최소 길이 : {}'.format(np.min(headlines_len)))\n",
    "print('헤드라인의 최대 길이 : {}'.format(np.max(headlines_len)))\n",
    "print('헤드라인의 평균 길이 : {}'.format(np.mean(headlines_len)))\n",
    "print('텍스트의 최소 길이 : {}'.format(np.min(text_len)))\n",
    "print('텍스트의 최대 길이 : {}'.format(np.max(text_len)))\n",
    "print('텍스트의 평균 길이 : {}'.format(np.mean(text_len)))\n",
    "\n",
    "plt.subplot(1,2,1)\n",
    "plt.boxplot(headlines_len)\n",
    "plt.title('headlines')\n",
    "plt.subplot(1,2,2)\n",
    "plt.boxplot(text_len)\n",
    "plt.title('text')\n",
    "plt.tight_layout()\n",
    "plt.show()\n",
    "\n",
    "plt.title('headlines')\n",
    "plt.hist(headlines_len, bins = 40)\n",
    "plt.xlabel('length of samples')\n",
    "plt.ylabel('number of samples')\n",
    "plt.show()\n",
    "\n",
    "plt.title('text')\n",
    "plt.hist(text_len, bins = 40)\n",
    "plt.xlabel('length of samples')\n",
    "plt.ylabel('number of samples')\n",
    "plt.show()"
   ]
  },
  {
   "cell_type": "markdown",
   "id": "9da1acf1",
   "metadata": {},
   "source": [
    "아까 전처리를 하고 null값을 제거하면서 데이터를 정리해봤는데, 샘플의 문장 길이가 어느정도 되는지 한번 확인해 보았다.\n",
    "그래프를 이용해서 봤는데, 헤드라인은 최대 길이가 13이고 평균적으로 7.13정도 된다.\n",
    "텍스트의 최대 길이는 69고 평균은 59.1817이 나왔다."
   ]
  },
  {
   "cell_type": "code",
   "execution_count": 20,
   "id": "455de68b",
   "metadata": {},
   "outputs": [
    {
     "name": "stdout",
     "output_type": "stream",
     "text": [
      "=3\n"
     ]
    }
   ],
   "source": [
    "headlines_max_len = 13\n",
    "text_max_len = 69\n",
    "print('=3')"
   ]
  },
  {
   "cell_type": "markdown",
   "id": "9e0fea30",
   "metadata": {},
   "source": [
    "그래서 이번에 그래프에서 보던 최대길이로 헤드라인과 텍스트의 길이를 정해놨다."
   ]
  },
  {
   "cell_type": "code",
   "execution_count": 21,
   "id": "970692c6",
   "metadata": {},
   "outputs": [
    {
     "name": "stdout",
     "output_type": "stream",
     "text": [
      "=3\n"
     ]
    }
   ],
   "source": [
    "def below_threshold_len(max_len, nested_list):\n",
    "  cnt = 0\n",
    "  for s in nested_list:\n",
    "    if(len(s.split()) <= max_len):\n",
    "        cnt = cnt + 1\n",
    "  print('전체 샘플 중 길이가 %s 이하인 샘플의 비율: %s'%(max_len, (cnt / len(nested_list))))\n",
    "print('=3')"
   ]
  },
  {
   "cell_type": "markdown",
   "id": "f5f22fd9",
   "metadata": {},
   "source": [
    "위에서 길이를 정한다음 그 퍼센테이지를 확인해보기 위해 식을 적었다."
   ]
  },
  {
   "cell_type": "code",
   "execution_count": 22,
   "id": "50d63cba",
   "metadata": {},
   "outputs": [
    {
     "name": "stdout",
     "output_type": "stream",
     "text": [
      "전체 샘플 중 길이가 13 이하인 샘플의 비율: 1.0\n",
      "전체 샘플 중 길이가 69 이하인 샘플의 비율: 1.0\n"
     ]
    }
   ],
   "source": [
    "below_threshold_len(headlines_max_len, data['headlines'])\n",
    "below_threshold_len(text_max_len,  data['text'])"
   ]
  },
  {
   "cell_type": "markdown",
   "id": "f4a0b39f",
   "metadata": {},
   "source": [
    "당연히 둘다 1인게 그래프에서 보았던 최대값을 내가 최대값 설정을 할 때 넣었으니 그 안에 그래프 안에 있던 모든 값이 \n",
    "다 들어있어서 1이 나온것이다."
   ]
  },
  {
   "cell_type": "code",
   "execution_count": 23,
   "id": "8cce550e",
   "metadata": {},
   "outputs": [
    {
     "name": "stdout",
     "output_type": "stream",
     "text": [
      "전체 샘플수 : 98280\n"
     ]
    }
   ],
   "source": [
    "data = data[data['headlines'].apply(lambda x: len(x.split()) <= headlines_max_len)]\n",
    "data = data[data['text'].apply(lambda x: len(x.split()) <= text_max_len)]\n",
    "print('전체 샘플수 :', (len(data)))"
   ]
  },
  {
   "cell_type": "markdown",
   "id": "b40aeb89",
   "metadata": {},
   "source": [
    "그래서 샘플수도 똑같이 나왔다."
   ]
  },
  {
   "cell_type": "code",
   "execution_count": 24,
   "id": "2ba3b4d0",
   "metadata": {},
   "outputs": [
    {
     "data": {
      "text/html": [
       "<div>\n",
       "<style scoped>\n",
       "    .dataframe tbody tr th:only-of-type {\n",
       "        vertical-align: middle;\n",
       "    }\n",
       "\n",
       "    .dataframe tbody tr th {\n",
       "        vertical-align: top;\n",
       "    }\n",
       "\n",
       "    .dataframe thead th {\n",
       "        text-align: right;\n",
       "    }\n",
       "</style>\n",
       "<table border=\"1\" class=\"dataframe\">\n",
       "  <thead>\n",
       "    <tr style=\"text-align: right;\">\n",
       "      <th></th>\n",
       "      <th>headlines</th>\n",
       "      <th>text</th>\n",
       "      <th>decoder_input</th>\n",
       "      <th>decoder_target</th>\n",
       "    </tr>\n",
       "  </thead>\n",
       "  <tbody>\n",
       "    <tr>\n",
       "      <th>0</th>\n",
       "      <td>upgrad learner switches career ml al salary hike</td>\n",
       "      <td>saurav kant an alumnus of upgrad and iiit pg p...</td>\n",
       "      <td>sostoken saurav kant an alumnus of upgrad and ...</td>\n",
       "      <td>saurav kant an alumnus of upgrad and iiit pg p...</td>\n",
       "    </tr>\n",
       "    <tr>\n",
       "      <th>1</th>\n",
       "      <td>delhi techie wins free food swiggy one year cred</td>\n",
       "      <td>kunal shah credit card bill payment platform c...</td>\n",
       "      <td>sostoken kunal shah credit card bill payment p...</td>\n",
       "      <td>kunal shah credit card bill payment platform c...</td>\n",
       "    </tr>\n",
       "    <tr>\n",
       "      <th>2</th>\n",
       "      <td>new zealand end rohit sharma led india match w...</td>\n",
       "      <td>new zealand defeated india by wickets in the f...</td>\n",
       "      <td>sostoken new zealand defeated india by wickets...</td>\n",
       "      <td>new zealand defeated india by wickets in the f...</td>\n",
       "    </tr>\n",
       "    <tr>\n",
       "      <th>3</th>\n",
       "      <td>aegon life iterm insurance plan helps customer...</td>\n",
       "      <td>with aegon life iterm insurance plan customers...</td>\n",
       "      <td>sostoken with aegon life iterm insurance plan ...</td>\n",
       "      <td>with aegon life iterm insurance plan customers...</td>\n",
       "    </tr>\n",
       "    <tr>\n",
       "      <th>4</th>\n",
       "      <td>known hirani yrs metoo claims true sonam</td>\n",
       "      <td>speaking about the sexual harassment allegatio...</td>\n",
       "      <td>sostoken speaking about the sexual harassment ...</td>\n",
       "      <td>speaking about the sexual harassment allegatio...</td>\n",
       "    </tr>\n",
       "  </tbody>\n",
       "</table>\n",
       "</div>"
      ],
      "text/plain": [
       "                                           headlines  \\\n",
       "0   upgrad learner switches career ml al salary hike   \n",
       "1   delhi techie wins free food swiggy one year cred   \n",
       "2  new zealand end rohit sharma led india match w...   \n",
       "3  aegon life iterm insurance plan helps customer...   \n",
       "4           known hirani yrs metoo claims true sonam   \n",
       "\n",
       "                                                text  \\\n",
       "0  saurav kant an alumnus of upgrad and iiit pg p...   \n",
       "1  kunal shah credit card bill payment platform c...   \n",
       "2  new zealand defeated india by wickets in the f...   \n",
       "3  with aegon life iterm insurance plan customers...   \n",
       "4  speaking about the sexual harassment allegatio...   \n",
       "\n",
       "                                       decoder_input  \\\n",
       "0  sostoken saurav kant an alumnus of upgrad and ...   \n",
       "1  sostoken kunal shah credit card bill payment p...   \n",
       "2  sostoken new zealand defeated india by wickets...   \n",
       "3  sostoken with aegon life iterm insurance plan ...   \n",
       "4  sostoken speaking about the sexual harassment ...   \n",
       "\n",
       "                                      decoder_target  \n",
       "0  saurav kant an alumnus of upgrad and iiit pg p...  \n",
       "1  kunal shah credit card bill payment platform c...  \n",
       "2  new zealand defeated india by wickets in the f...  \n",
       "3  with aegon life iterm insurance plan customers...  \n",
       "4  speaking about the sexual harassment allegatio...  "
      ]
     },
     "execution_count": 24,
     "metadata": {},
     "output_type": "execute_result"
    }
   ],
   "source": [
    "# 요약 데이터에는 시작 토큰과 종료 토큰을 추가한다.\n",
    "data['decoder_input'] = data['text'].apply(lambda x : 'sostoken '+ x)\n",
    "data['decoder_target'] = data['text'].apply(lambda x : x + ' eostoken')\n",
    "data.head()"
   ]
  },
  {
   "cell_type": "markdown",
   "id": "61d4fc03",
   "metadata": {},
   "source": [
    "그래서 여기서 정해진 길이가 나올 때 연습에서는 기존에 값보다 길면 제외를 시켰지만, 나는 가장 최대로해서 제외된게 없다."
   ]
  },
  {
   "cell_type": "code",
   "execution_count": 25,
   "id": "3e8da509",
   "metadata": {},
   "outputs": [
    {
     "name": "stdout",
     "output_type": "stream",
     "text": [
      "=3\n"
     ]
    }
   ],
   "source": [
    "encoder_input = np.array(data['text']) # 인코더의 입력\n",
    "decoder_input = np.array(data['decoder_input']) # 디코더의 입력\n",
    "decoder_target = np.array(data['decoder_target']) # 디코더의 레이블\n",
    "print('=3')"
   ]
  },
  {
   "cell_type": "markdown",
   "id": "308620a8",
   "metadata": {},
   "source": [
    "인코더의 입력과 디코더의 입력, 레이블을 Numpy타입으로 저장해본다."
   ]
  },
  {
   "cell_type": "code",
   "execution_count": 26,
   "id": "54c5f45e",
   "metadata": {},
   "outputs": [
    {
     "name": "stdout",
     "output_type": "stream",
     "text": [
      "[19550  3034 48084 ... 54897 19303 81939]\n"
     ]
    }
   ],
   "source": [
    "indices = np.arange(encoder_input.shape[0])\n",
    "np.random.shuffle(indices)\n",
    "print(indices)"
   ]
  },
  {
   "cell_type": "markdown",
   "id": "15fe56e4",
   "metadata": {},
   "source": [
    "encoder의 input과 크기와 형태가 같은 순서가 섞인 정수 시퀀스를 만들어보자."
   ]
  },
  {
   "cell_type": "code",
   "execution_count": 27,
   "id": "983186fe",
   "metadata": {},
   "outputs": [
    {
     "name": "stdout",
     "output_type": "stream",
     "text": [
      "=3\n"
     ]
    }
   ],
   "source": [
    "encoder_input = encoder_input[indices]\n",
    "decoder_input = decoder_input[indices]\n",
    "decoder_target = decoder_target[indices]\n",
    "print('=3')"
   ]
  },
  {
   "cell_type": "markdown",
   "id": "e4641bba",
   "metadata": {},
   "source": [
    "정수 시퀀스를 이용해서 데이터의 샘플 순서를 정의해 주자."
   ]
  },
  {
   "cell_type": "code",
   "execution_count": 28,
   "id": "025e8142",
   "metadata": {},
   "outputs": [
    {
     "name": "stdout",
     "output_type": "stream",
     "text": [
      "테스트 데이터의 수 : 19656\n"
     ]
    }
   ],
   "source": [
    "n_of_val = int(len(encoder_input)*0.2)\n",
    "print('테스트 데이터의 수 :', n_of_val)"
   ]
  },
  {
   "cell_type": "markdown",
   "id": "80595cb1",
   "metadata": {},
   "source": [
    "훈련과 테스트 데이터의 비율을 8:2로 나눠보았는데\n",
    "테스트 데이터 수가 19656개가 나왔다."
   ]
  },
  {
   "cell_type": "code",
   "execution_count": 29,
   "id": "9a89c2ea",
   "metadata": {},
   "outputs": [
    {
     "name": "stdout",
     "output_type": "stream",
     "text": [
      "훈련 데이터의 개수 : 78624\n",
      "훈련 레이블의 개수 : 78624\n",
      "테스트 데이터의 개수 : 19656\n",
      "테스트 레이블의 개수 : 19656\n"
     ]
    }
   ],
   "source": [
    "encoder_input_train = encoder_input[:-n_of_val]\n",
    "decoder_input_train = decoder_input[:-n_of_val]\n",
    "decoder_target_train = decoder_target[:-n_of_val]\n",
    "\n",
    "encoder_input_test = encoder_input[-n_of_val:]\n",
    "decoder_input_test = decoder_input[-n_of_val:]\n",
    "decoder_target_test = decoder_target[-n_of_val:]\n",
    "\n",
    "print('훈련 데이터의 개수 :', len(encoder_input_train))\n",
    "print('훈련 레이블의 개수 :', len(decoder_input_train))\n",
    "print('테스트 데이터의 개수 :', len(encoder_input_test))\n",
    "print('테스트 레이블의 개수 :', len(decoder_input_test))"
   ]
  },
  {
   "cell_type": "markdown",
   "id": "20982b2b",
   "metadata": {},
   "source": [
    "나눠진 숫자를 보면 잘 나온거 같다."
   ]
  },
  {
   "cell_type": "code",
   "execution_count": 30,
   "id": "d7c40952",
   "metadata": {},
   "outputs": [
    {
     "name": "stdout",
     "output_type": "stream",
     "text": [
      "=3\n"
     ]
    }
   ],
   "source": [
    "src_tokenizer = Tokenizer() # 토크나이저 정의\n",
    "src_tokenizer.fit_on_texts(encoder_input_train) # 입력된 데이터로부터 단어 집합 생성\n",
    "print('=3')"
   ]
  },
  {
   "cell_type": "markdown",
   "id": "219738a6",
   "metadata": {},
   "source": [
    "기계가 텍스트를 숫자로 처리할 수 있게 훈련 데이터와 테스트 데이터의 단어들을 모두 정수로 바꿔줘야 한다고 한다.\n",
    "이것을 위해서 각 단어에 고유한 맵핑을 해야되는데 이 과정을 단어 집합이라고 하고, 이것을 해보기 위해 encoder_input_train에 대한 단어집합을\n",
    "만들어 보았다."
   ]
  },
  {
   "cell_type": "code",
   "execution_count": 31,
   "id": "232c672f",
   "metadata": {},
   "outputs": [
    {
     "name": "stdout",
     "output_type": "stream",
     "text": [
      "단어 집합(vocabulary)의 크기 : 69693\n",
      "등장 빈도가 6번 이하인 희귀 단어의 수: 47467\n",
      "단어 집합에서 희귀 단어를 제외시킬 경우의 단어 집합의 크기 22226\n",
      "단어 집합에서 희귀 단어의 비율: 68.10870532191181\n",
      "전체 등장 빈도에서 희귀 단어 등장 빈도 비율: 2.180865141861739\n"
     ]
    }
   ],
   "source": [
    "threshold = 7\n",
    "total_cnt = len(src_tokenizer.word_index) # 단어의 수\n",
    "rare_cnt = 0 # 등장 빈도수가 threshold보다 작은 단어의 개수를 카운트\n",
    "total_freq = 0 # 훈련 데이터의 전체 단어 빈도수 총 합\n",
    "rare_freq = 0 # 등장 빈도수가 threshold보다 작은 단어의 등장 빈도수의 총 합\n",
    "\n",
    "# 단어와 빈도수의 쌍(pair)을 key와 value로 받는다.\n",
    "for key, value in src_tokenizer.word_counts.items():\n",
    "    total_freq = total_freq + value\n",
    "\n",
    "    # 단어의 등장 빈도수가 threshold보다 작으면\n",
    "    if(value < threshold):\n",
    "        rare_cnt = rare_cnt + 1\n",
    "        rare_freq = rare_freq + value\n",
    "\n",
    "print('단어 집합(vocabulary)의 크기 :', total_cnt)\n",
    "print('등장 빈도가 %s번 이하인 희귀 단어의 수: %s'%(threshold - 1, rare_cnt))\n",
    "print('단어 집합에서 희귀 단어를 제외시킬 경우의 단어 집합의 크기 %s'%(total_cnt - rare_cnt))\n",
    "print(\"단어 집합에서 희귀 단어의 비율:\", (rare_cnt / total_cnt)*100)\n",
    "print(\"전체 등장 빈도에서 희귀 단어 등장 빈도 비율:\", (rare_freq / total_freq)*100)"
   ]
  },
  {
   "cell_type": "markdown",
   "id": "c26ce234",
   "metadata": {},
   "source": [
    "단어 집합이 만들어지고 고유한 정수가 붙었다. 그리고 만들어진 단어 집합은 src_tokenizer.word_index에 저장되어 있다고 한다.\n",
    "그런데 단어 집합에 있는 모든 단어를 사용할 것이 아니기 때문에 등장 빈도수가 적은것들을 제외해보려고 한다.\n",
    "7회 미만인 단어들을 찾아 얼마만큼의 비율을 차지하는지 한번 확인해보았다.\n",
    "68퍼센트 정도 나온것을 보면 중간보다 좀더 많이 있는걸 확인할 수 있다."
   ]
  },
  {
   "cell_type": "code",
   "execution_count": 32,
   "id": "78e8ce35",
   "metadata": {},
   "outputs": [
    {
     "name": "stdout",
     "output_type": "stream",
     "text": [
      "=3\n"
     ]
    }
   ],
   "source": [
    "src_vocab = 8000\n",
    "src_tokenizer = Tokenizer(num_words=src_vocab) # 단어 집합의 크기를 8,000으로 제한\n",
    "src_tokenizer.fit_on_texts(encoder_input_train) # 단어 집합 재생성\n",
    "print('=3')"
   ]
  },
  {
   "cell_type": "markdown",
   "id": "3f1368e9",
   "metadata": {},
   "source": [
    "texts_to_sequences()는 생성된 단어집합에 기반해서 입력으로 주어진 텍스트 데이터의 단어들을 모두 정수로 변환하는 정수 인코딩을 수행한다고 한다. 지금 src_vocab = 8000이걸로 단어 집합의 크기를 8000으로 제한했기 때문에 8000이 넘는 숫자들은 정수 인코딩 후 존재하지 않는다고 한다."
   ]
  },
  {
   "cell_type": "code",
   "execution_count": 33,
   "id": "c738a0cc",
   "metadata": {},
   "outputs": [
    {
     "name": "stdout",
     "output_type": "stream",
     "text": [
      "[[5621, 6439, 6, 120, 1391, 2, 2160, 1551, 3, 1, 112, 1263, 22, 999, 632, 15, 36, 1, 30, 54, 407, 1, 46, 52, 129, 177, 3, 2, 312, 1016, 3, 358, 5, 1885, 22, 696, 1281, 4, 999, 632, 41, 27, 241, 1551, 3, 352, 6, 156], [2167, 992, 1, 30, 54, 647, 237, 28, 4789, 8, 4355, 18, 1515, 3, 6003, 417, 785, 869, 388, 1, 417, 140, 1, 1461, 4, 490, 5578, 599, 4941, 157, 9, 1, 9, 32, 4355, 1007, 71, 178, 238, 203, 2, 24, 41, 2133, 32, 184, 3, 6058, 1640, 94, 4, 2137, 5, 4200, 1641], [2119, 18, 82, 68, 4, 496, 45, 1352, 21, 670, 136, 1, 679, 320, 7, 9, 3, 37, 230, 2223, 22, 1, 6058, 200, 1386, 8, 1, 4, 2119, 1, 320, 9, 10, 1, 2002, 989, 4899, 1019, 3112, 423, 5, 862, 275, 301, 2119, 732, 959, 38, 1352, 3, 442]]\n"
     ]
    }
   ],
   "source": [
    "# 텍스트 시퀀스를 정수 시퀀스로 변환\n",
    "encoder_input_train = src_tokenizer.texts_to_sequences(encoder_input_train) \n",
    "encoder_input_test = src_tokenizer.texts_to_sequences(encoder_input_test)\n",
    "\n",
    "# 잘 진행되었는지 샘플 출력\n",
    "print(encoder_input_train[:3])"
   ]
  },
  {
   "cell_type": "markdown",
   "id": "8934f208",
   "metadata": {},
   "source": [
    "정수 인코딩을 하니까 아까 위에서는 텍스트로 나왔었는데 이제는 숫자로 나온다."
   ]
  },
  {
   "cell_type": "code",
   "execution_count": 34,
   "id": "c674aba6",
   "metadata": {},
   "outputs": [
    {
     "name": "stdout",
     "output_type": "stream",
     "text": [
      "=3\n"
     ]
    }
   ],
   "source": [
    "tar_tokenizer = Tokenizer()\n",
    "tar_tokenizer.fit_on_texts(decoder_input_train)\n",
    "print('=3')"
   ]
  },
  {
   "cell_type": "markdown",
   "id": "91874923",
   "metadata": {},
   "source": [
    "케라스 토크나이저를 사용해서 decoder_input_train을 입력해 전체 단어 집합과 각 단어에 대한 빈도수를 계산 할 수 있다."
   ]
  },
  {
   "cell_type": "code",
   "execution_count": 35,
   "id": "2d0f2ec3",
   "metadata": {},
   "outputs": [
    {
     "name": "stdout",
     "output_type": "stream",
     "text": [
      "단어 집합(vocabulary)의 크기 : 69694\n",
      "등장 빈도가 5번 이하인 희귀 단어의 수: 45626\n",
      "단어 집합에서 희귀 단어를 제외시킬 경우의 단어 집합의 크기 24068\n",
      "단어 집합에서 희귀 단어의 비율: 65.46618073291819\n",
      "전체 등장 빈도에서 희귀 단어 등장 빈도 비율: 1.8970102291293838\n"
     ]
    }
   ],
   "source": [
    "threshold = 6\n",
    "total_cnt = len(tar_tokenizer.word_index) # 단어의 수\n",
    "rare_cnt = 0 # 등장 빈도수가 threshold보다 작은 단어의 개수를 카운트\n",
    "total_freq = 0 # 훈련 데이터의 전체 단어 빈도수 총 합\n",
    "rare_freq = 0 # 등장 빈도수가 threshold보다 작은 단어의 등장 빈도수의 총 합\n",
    "\n",
    "# 단어와 빈도수의 쌍(pair)을 key와 value로 받는다.\n",
    "for key, value in tar_tokenizer.word_counts.items():\n",
    "    total_freq = total_freq + value\n",
    "\n",
    "    # 단어의 등장 빈도수가 threshold보다 작으면\n",
    "    if(value < threshold):\n",
    "        rare_cnt = rare_cnt + 1\n",
    "        rare_freq = rare_freq + value\n",
    "\n",
    "print('단어 집합(vocabulary)의 크기 :', total_cnt)\n",
    "print('등장 빈도가 %s번 이하인 희귀 단어의 수: %s'%(threshold - 1, rare_cnt))\n",
    "print('단어 집합에서 희귀 단어를 제외시킬 경우의 단어 집합의 크기 %s'%(total_cnt - rare_cnt))\n",
    "print(\"단어 집합에서 희귀 단어의 비율:\", (rare_cnt / total_cnt)*100)\n",
    "print(\"전체 등장 빈도에서 희귀 단어 등장 빈도 비율:\", (rare_freq / total_freq)*100)"
   ]
  },
  {
   "cell_type": "markdown",
   "id": "1f75dd58",
   "metadata": {},
   "source": [
    "아까 위에서 했던것처럼 등장빈도가 낮은 것들의 비율이 얼마나 나올지 또 확인해보는 건데 이번엔 6회 미만인 것들을 확인해 보았다.\n",
    "아니다 지금보니까 비율이 65정도 되는거면 중상정도의 비율을 가지고 있는것을 볼 수 있다."
   ]
  },
  {
   "cell_type": "code",
   "execution_count": 36,
   "id": "7b0f2e03",
   "metadata": {},
   "outputs": [
    {
     "name": "stdout",
     "output_type": "stream",
     "text": [
      "input\n",
      "input  [[11, 6, 122, 1393, 2, 1553, 3, 1, 114, 1265, 24, 1001, 634, 17, 38, 1, 32, 56, 409, 1, 48, 54, 131, 179, 3, 2, 314, 1018, 3, 360, 5, 1887, 24, 698, 1283, 4, 1001, 634, 43, 29, 243, 1553, 3, 354, 6, 158], [11, 994, 1, 32, 56, 649, 239, 30, 8, 20, 1517, 3, 419, 787, 871, 390, 1, 419, 142, 1, 1463, 4, 492, 601, 159, 9, 1, 9, 34, 1009, 73, 180, 240, 205, 2, 26, 43, 34, 186, 3, 1642, 96, 4, 5, 1643], [11, 20, 84, 70, 4, 498, 47, 1354, 23, 672, 138, 1, 681, 322, 7, 9, 3, 39, 232, 24, 1, 202, 1388, 8, 1, 4, 1, 322, 9, 10, 1, 991, 1021, 425, 5, 864, 277, 303, 734, 961, 40, 1354, 3, 444], [11, 699, 1245, 57, 6, 125, 289, 25, 24, 1, 1531, 24, 1215, 255, 307, 1066, 565, 1, 7, 35, 210, 67, 241, 213, 5, 2, 706, 5, 1766, 213, 2, 51, 8, 460, 134, 37, 2, 1454, 2, 1833, 1766, 5, 1531, 1500], [11, 657, 140, 30, 119, 588, 652, 17, 9, 51, 1, 10, 198, 518, 2, 26, 1, 189, 518, 376, 105, 27, 487, 692, 516, 5, 1821, 2, 26, 22, 22, 82, 17, 1, 288, 86, 195, 5, 1757, 22, 417, 5, 86, 28, 2, 180, 19, 1, 288, 381, 33]]\n",
      "target\n",
      "decoder  [[6, 122, 1393, 2, 1553, 3, 1, 114, 1265, 24, 1001, 634, 17, 38, 1, 32, 56, 409, 1, 48, 54, 131, 179, 3, 2, 314, 1018, 3, 360, 5, 1887, 24, 698, 1283, 4, 1001, 634, 43, 29, 243, 1553, 3, 354, 6, 158, 12], [994, 1, 32, 56, 649, 239, 30, 8, 20, 1517, 3, 419, 787, 871, 390, 1, 419, 142, 1, 1463, 4, 492, 601, 159, 9, 1, 9, 34, 1009, 73, 180, 240, 205, 2, 26, 43, 34, 186, 3, 1642, 96, 4, 5, 1643, 12], [20, 84, 70, 4, 498, 47, 1354, 23, 672, 138, 1, 681, 322, 7, 9, 3, 39, 232, 24, 1, 202, 1388, 8, 1, 4, 1, 322, 9, 10, 1, 991, 1021, 425, 5, 864, 277, 303, 734, 961, 40, 1354, 3, 444, 12], [699, 1245, 57, 6, 125, 289, 25, 24, 1, 1531, 24, 1215, 255, 307, 1066, 565, 1, 7, 35, 210, 67, 241, 213, 5, 2, 706, 5, 1766, 213, 2, 51, 8, 460, 134, 37, 2, 1454, 2, 1833, 1766, 5, 1531, 1500, 12], [657, 140, 30, 119, 588, 652, 17, 9, 51, 1, 10, 198, 518, 2, 26, 1, 189, 518, 376, 105, 27, 487, 692, 516, 5, 1821, 2, 26, 22, 22, 82, 17, 1, 288, 86, 195, 5, 1757, 22, 417, 5, 86, 28, 2, 180, 19, 1, 288, 381, 33, 12]]\n"
     ]
    }
   ],
   "source": [
    "tar_vocab = 2000\n",
    "tar_tokenizer = Tokenizer(num_words=tar_vocab) \n",
    "tar_tokenizer.fit_on_texts(decoder_input_train)\n",
    "tar_tokenizer.fit_on_texts(decoder_target_train)\n",
    "\n",
    "# 텍스트 시퀀스를 정수 시퀀스로 변환\n",
    "decoder_input_train = tar_tokenizer.texts_to_sequences(decoder_input_train) \n",
    "decoder_target_train = tar_tokenizer.texts_to_sequences(decoder_target_train)\n",
    "decoder_input_test = tar_tokenizer.texts_to_sequences(decoder_input_test)\n",
    "decoder_target_test = tar_tokenizer.texts_to_sequences(decoder_target_test)\n",
    "\n",
    "# 잘 변환되었는지 확인\n",
    "print('input')\n",
    "print('input ',decoder_input_train[:5])\n",
    "print('target')\n",
    "print('decoder ',decoder_target_train[:5])"
   ]
  },
  {
   "cell_type": "markdown",
   "id": "b31cdf0e",
   "metadata": {},
   "source": [
    "이번에는 2000을 최대로 해서 다시 정수 인코딩을 했을 때의 결과값들이다."
   ]
  },
  {
   "cell_type": "code",
   "execution_count": 37,
   "id": "fbf77b43",
   "metadata": {},
   "outputs": [
    {
     "name": "stdout",
     "output_type": "stream",
     "text": [
      "삭제할 훈련 데이터의 개수 : 1\n",
      "삭제할 테스트 데이터의 개수 : 0\n",
      "훈련 데이터의 개수 : 78623\n",
      "훈련 레이블의 개수 : 78623\n",
      "테스트 데이터의 개수 : 19656\n",
      "테스트 레이블의 개수 : 19656\n"
     ]
    }
   ],
   "source": [
    "drop_train = [index for index, sentence in enumerate(decoder_input_train) if len(sentence) == 1]\n",
    "drop_test = [index for index, sentence in enumerate(decoder_input_test) if len(sentence) == 1]\n",
    "\n",
    "print('삭제할 훈련 데이터의 개수 :', len(drop_train))\n",
    "print('삭제할 테스트 데이터의 개수 :', len(drop_test))\n",
    "\n",
    "encoder_input_train = [sentence for index, sentence in enumerate(encoder_input_train) if index not in drop_train]\n",
    "decoder_input_train = [sentence for index, sentence in enumerate(decoder_input_train) if index not in drop_train]\n",
    "decoder_target_train = [sentence for index, sentence in enumerate(decoder_target_train) if index not in drop_train]\n",
    "\n",
    "encoder_input_test = [sentence for index, sentence in enumerate(encoder_input_test) if index not in drop_test]\n",
    "decoder_input_test = [sentence for index, sentence in enumerate(decoder_input_test) if index not in drop_test]\n",
    "decoder_target_test = [sentence for index, sentence in enumerate(decoder_target_test) if index not in drop_test]\n",
    "\n",
    "print('훈련 데이터의 개수 :', len(encoder_input_train))\n",
    "print('훈련 레이블의 개수 :', len(decoder_input_train))\n",
    "print('테스트 데이터의 개수 :', len(encoder_input_test))\n",
    "print('테스트 레이블의 개수 :', len(decoder_input_test))"
   ]
  },
  {
   "cell_type": "markdown",
   "id": "5e949cf4",
   "metadata": {},
   "source": [
    "훈련 데이터와 테스트 데이터에 대해서 요약문의 길이가 1인 경우의 인덱스를 각각 drop_train과 drop_test에 라는 변수에 저장해보았다.\n",
    "흠... 근데 보면 훈련데이터에서 삭제한건 1개고 테스트 데이터에서 삭제한건 없다."
   ]
  },
  {
   "cell_type": "code",
   "execution_count": 38,
   "id": "8a52149c",
   "metadata": {},
   "outputs": [
    {
     "name": "stdout",
     "output_type": "stream",
     "text": [
      "=3\n"
     ]
    }
   ],
   "source": [
    "encoder_input_train = pad_sequences(encoder_input_train, maxlen=headlines_max_len, padding='post')\n",
    "encoder_input_test = pad_sequences(encoder_input_test, maxlen=headlines_max_len, padding='post')\n",
    "decoder_input_train = pad_sequences(decoder_input_train, maxlen=text_max_len, padding='post')\n",
    "decoder_target_train = pad_sequences(decoder_target_train, maxlen=text_max_len, padding='post')\n",
    "decoder_input_test = pad_sequences(decoder_input_test, maxlen=text_max_len, padding='post')\n",
    "decoder_target_test = pad_sequences(decoder_target_test, maxlen=text_max_len, padding='post')\n",
    "print('=3')"
   ]
  },
  {
   "cell_type": "markdown",
   "id": "27092723",
   "metadata": {},
   "source": [
    "텍스트 시퀀스를 정수 시퀀스로 변화시켜줬으니까 이제 서로 다른 길이의 샘플들을 병렬처리 해주었다.(패딩작업)\n",
    "아까 정해뒀던 최대길이로 패딩작업을 하고, 최대 길이에 맞추지 못한 짧은 데이터들은 뒤에 0을 넣어 최대길이에 맞춰준다."
   ]
  },
  {
   "cell_type": "code",
   "execution_count": 39,
   "id": "f578a313",
   "metadata": {},
   "outputs": [
    {
     "name": "stdout",
     "output_type": "stream",
     "text": [
      "WARNING:tensorflow:Layer lstm will not use cuDNN kernels since it doesn't meet the criteria. It will use a generic GPU kernel as fallback when running on GPU.\n",
      "WARNING:tensorflow:Layer lstm_1 will not use cuDNN kernels since it doesn't meet the criteria. It will use a generic GPU kernel as fallback when running on GPU.\n",
      "WARNING:tensorflow:Layer lstm_2 will not use cuDNN kernels since it doesn't meet the criteria. It will use a generic GPU kernel as fallback when running on GPU.\n"
     ]
    }
   ],
   "source": [
    "from tensorflow.keras.layers import Input, LSTM, Embedding, Dense, Concatenate, TimeDistributed\n",
    "from tensorflow.keras.models import Model\n",
    "from tensorflow.keras.callbacks import EarlyStopping, ModelCheckpoint\n",
    "\n",
    "\n",
    "# 인코더 설계 시작\n",
    "embedding_dim = 128\n",
    "hidden_size = 256\n",
    "\n",
    "# 인코더\n",
    "encoder_inputs = Input(shape=(headlines_max_len,))\n",
    "\n",
    "# 인코더의 임베딩 층\n",
    "enc_emb = Embedding(src_vocab, embedding_dim)(encoder_inputs)\n",
    "\n",
    "# 인코더의 LSTM 1\n",
    "encoder_lstm1 = LSTM(hidden_size, return_sequences=True, return_state=True ,dropout = 0.4, recurrent_dropout = 0.4)\n",
    "encoder_output1, state_h1, state_c1 = encoder_lstm1(enc_emb)\n",
    "\n",
    "# 인코더의 LSTM 2\n",
    "encoder_lstm2 = LSTM(hidden_size, return_sequences=True, return_state=True, dropout=0.4, recurrent_dropout=0.4)\n",
    "encoder_output2, state_h2, state_c2 = encoder_lstm2(encoder_output1)\n",
    "\n",
    "# 인코더의 LSTM 3\n",
    "encoder_lstm3 = LSTM(hidden_size, return_state=True, return_sequences=True, dropout=0.4, recurrent_dropout=0.4)\n",
    "encoder_outputs, state_h, state_c= encoder_lstm3(encoder_output2)"
   ]
  },
  {
   "cell_type": "markdown",
   "id": "0ca89b91",
   "metadata": {},
   "source": [
    "아까까지 데이터를 정리했으니 이제는 모델을 만들어 볼 차례다.\n",
    "여기서  hidden state는 LSTM에서 얼만큼의 수용력을 가질지 정하는 파라미터라고 한다.\n",
    "이 파라미터는 LSTM의 용량크기, 뉴런의 개수라고 이해하면 된다고 한다.\n",
    "LSTM은 dropout 뿐 아니라 recurrent dropout까지 사용하는데 일반적인 dropout은 레이어의 weight를 랜덤으로 생략하여 모델의 과적합을 해결해준다고 한다."
   ]
  },
  {
   "cell_type": "code",
   "execution_count": 40,
   "id": "3ebd5cb8",
   "metadata": {},
   "outputs": [
    {
     "name": "stdout",
     "output_type": "stream",
     "text": [
      "WARNING:tensorflow:Layer lstm_3 will not use cuDNN kernels since it doesn't meet the criteria. It will use a generic GPU kernel as fallback when running on GPU.\n"
     ]
    }
   ],
   "source": [
    "# 디코더 설계\n",
    "decoder_inputs = Input(shape=(None,))\n",
    "\n",
    "# 디코더의 임베딩 층\n",
    "dec_emb_layer = Embedding(tar_vocab, embedding_dim)\n",
    "dec_emb = dec_emb_layer(decoder_inputs)\n",
    "\n",
    "# 디코더의 LSTM\n",
    "decoder_lstm = LSTM(hidden_size, return_sequences=True, return_state=True, dropout=0.4, recurrent_dropout=0.2)\n",
    "decoder_outputs, _, _ = decoder_lstm(dec_emb, initial_state=[state_h, state_c])"
   ]
  },
  {
   "cell_type": "markdown",
   "id": "97b944ce",
   "metadata": {},
   "source": [
    "디코더의 임배딩 층과 LSTM을 설계하는 것은 인코더와 거의 동일하다고 한다.\n",
    "LSTM의 값을 정의할 때 initial_state의 인자값으로 인코더의 hidden state와 cell state의 값을 넣어야 한다고 한다."
   ]
  },
  {
   "cell_type": "code",
   "execution_count": 41,
   "id": "d1b747fe",
   "metadata": {},
   "outputs": [
    {
     "name": "stdout",
     "output_type": "stream",
     "text": [
      "Model: \"model\"\n",
      "__________________________________________________________________________________________________\n",
      "Layer (type)                    Output Shape         Param #     Connected to                     \n",
      "==================================================================================================\n",
      "input_1 (InputLayer)            [(None, 13)]         0                                            \n",
      "__________________________________________________________________________________________________\n",
      "embedding (Embedding)           (None, 13, 128)      1024000     input_1[0][0]                    \n",
      "__________________________________________________________________________________________________\n",
      "lstm (LSTM)                     [(None, 13, 256), (N 394240      embedding[0][0]                  \n",
      "__________________________________________________________________________________________________\n",
      "input_2 (InputLayer)            [(None, None)]       0                                            \n",
      "__________________________________________________________________________________________________\n",
      "lstm_1 (LSTM)                   [(None, 13, 256), (N 525312      lstm[0][0]                       \n",
      "__________________________________________________________________________________________________\n",
      "embedding_1 (Embedding)         (None, None, 128)    256000      input_2[0][0]                    \n",
      "__________________________________________________________________________________________________\n",
      "lstm_2 (LSTM)                   [(None, 13, 256), (N 525312      lstm_1[0][0]                     \n",
      "__________________________________________________________________________________________________\n",
      "lstm_3 (LSTM)                   [(None, None, 256),  394240      embedding_1[0][0]                \n",
      "                                                                 lstm_2[0][1]                     \n",
      "                                                                 lstm_2[0][2]                     \n",
      "__________________________________________________________________________________________________\n",
      "dense (Dense)                   (None, None, 2000)   514000      lstm_3[0][0]                     \n",
      "==================================================================================================\n",
      "Total params: 3,633,104\n",
      "Trainable params: 3,633,104\n",
      "Non-trainable params: 0\n",
      "__________________________________________________________________________________________________\n"
     ]
    }
   ],
   "source": [
    "# 디코더의 출력층\n",
    "decoder_softmax_layer = Dense(tar_vocab, activation='softmax')\n",
    "decoder_softmax_outputs = decoder_softmax_layer(decoder_outputs) \n",
    "\n",
    "# 모델 정의\n",
    "model = Model([encoder_inputs, decoder_inputs], decoder_softmax_outputs)\n",
    "model.summary()"
   ]
  },
  {
   "cell_type": "markdown",
   "id": "0890d3cc",
   "metadata": {},
   "source": [
    "디코더의 출력층에서는 Summary의 단어장인 tar_vocab의 수많은 선택지 중 하나의 단어를 선택하는 다중 클래스 분류 문제를 풀어야한다. 그렇기 때문에 Dense의 인자로 tar_vocab을 주고, 활성화 함수로 소프트맥스 함수를 사용한다고 한다.\n",
    "이게 hidden state와 cell state를 디코더의 초기 state로 사용하는 가장 기본적인 seq2seq라고 한다."
   ]
  },
  {
   "cell_type": "code",
   "execution_count": 42,
   "id": "5d92a467",
   "metadata": {},
   "outputs": [
    {
     "name": "stdout",
     "output_type": "stream",
     "text": [
      "Model: \"model_1\"\n",
      "__________________________________________________________________________________________________\n",
      "Layer (type)                    Output Shape         Param #     Connected to                     \n",
      "==================================================================================================\n",
      "input_1 (InputLayer)            [(None, 13)]         0                                            \n",
      "__________________________________________________________________________________________________\n",
      "embedding (Embedding)           (None, 13, 128)      1024000     input_1[0][0]                    \n",
      "__________________________________________________________________________________________________\n",
      "lstm (LSTM)                     [(None, 13, 256), (N 394240      embedding[0][0]                  \n",
      "__________________________________________________________________________________________________\n",
      "input_2 (InputLayer)            [(None, None)]       0                                            \n",
      "__________________________________________________________________________________________________\n",
      "lstm_1 (LSTM)                   [(None, 13, 256), (N 525312      lstm[0][0]                       \n",
      "__________________________________________________________________________________________________\n",
      "embedding_1 (Embedding)         (None, None, 128)    256000      input_2[0][0]                    \n",
      "__________________________________________________________________________________________________\n",
      "lstm_2 (LSTM)                   [(None, 13, 256), (N 525312      lstm_1[0][0]                     \n",
      "__________________________________________________________________________________________________\n",
      "lstm_3 (LSTM)                   [(None, None, 256),  394240      embedding_1[0][0]                \n",
      "                                                                 lstm_2[0][1]                     \n",
      "                                                                 lstm_2[0][2]                     \n",
      "__________________________________________________________________________________________________\n",
      "attention_layer (AdditiveAttent (None, None, 256)    256         lstm_3[0][0]                     \n",
      "                                                                 lstm_2[0][0]                     \n",
      "__________________________________________________________________________________________________\n",
      "concat_layer (Concatenate)      (None, None, 512)    0           lstm_3[0][0]                     \n",
      "                                                                 attention_layer[0][0]            \n",
      "__________________________________________________________________________________________________\n",
      "dense_1 (Dense)                 (None, None, 2000)   1026000     concat_layer[0][0]               \n",
      "==================================================================================================\n",
      "Total params: 4,145,360\n",
      "Trainable params: 4,145,360\n",
      "Non-trainable params: 0\n",
      "__________________________________________________________________________________________________\n"
     ]
    }
   ],
   "source": [
    "from tensorflow.keras.layers import AdditiveAttention\n",
    "\n",
    "# 어텐션 층(어텐션 함수)\n",
    "attn_layer = AdditiveAttention(name='attention_layer')\n",
    "\n",
    "# 인코더와 디코더의 모든 time step의 hidden state를 어텐션 층에 전달하고 결과를 리턴\n",
    "attn_out = attn_layer([decoder_outputs, encoder_outputs])\n",
    "\n",
    "\n",
    "# 어텐션의 결과와 디코더의 hidden state들을 연결\n",
    "decoder_concat_input = Concatenate(axis=-1, name='concat_layer')([decoder_outputs, attn_out])\n",
    "\n",
    "# 디코더의 출력층\n",
    "decoder_softmax_layer = Dense(tar_vocab, activation='softmax')\n",
    "decoder_softmax_outputs = decoder_softmax_layer(decoder_concat_input)\n",
    "\n",
    "# 모델 정의\n",
    "model = Model([encoder_inputs, decoder_inputs], decoder_softmax_outputs)\n",
    "model.summary()"
   ]
  },
  {
   "cell_type": "markdown",
   "id": "d8aaf584",
   "metadata": {},
   "source": [
    "어텐션 층을 만든다음, 아까 위에서 만든 디코더의 출력층을 수정해보았다."
   ]
  },
  {
   "cell_type": "code",
   "execution_count": 43,
   "id": "6b7d4a87",
   "metadata": {},
   "outputs": [
    {
     "name": "stdout",
     "output_type": "stream",
     "text": [
      "Epoch 1/50\n",
      "308/308 [==============================] - 158s 462ms/step - loss: 3.8701 - val_loss: 3.4665\n",
      "Epoch 2/50\n",
      "308/308 [==============================] - 140s 454ms/step - loss: 3.2910 - val_loss: 3.1532\n",
      "Epoch 3/50\n",
      "308/308 [==============================] - 139s 450ms/step - loss: 3.0693 - val_loss: 2.9993\n",
      "Epoch 4/50\n",
      "308/308 [==============================] - 138s 449ms/step - loss: 2.9439 - val_loss: 2.8942\n",
      "Epoch 5/50\n",
      "308/308 [==============================] - 138s 450ms/step - loss: 2.8585 - val_loss: 2.8216\n",
      "Epoch 6/50\n",
      "308/308 [==============================] - 138s 448ms/step - loss: 2.7945 - val_loss: 2.7689\n",
      "Epoch 7/50\n",
      "308/308 [==============================] - 139s 453ms/step - loss: 2.7428 - val_loss: 2.7259\n",
      "Epoch 8/50\n",
      "308/308 [==============================] - 139s 453ms/step - loss: 2.6994 - val_loss: 2.6945\n",
      "Epoch 9/50\n",
      "308/308 [==============================] - 140s 454ms/step - loss: 2.6613 - val_loss: 2.6547\n",
      "Epoch 10/50\n",
      "308/308 [==============================] - 139s 452ms/step - loss: 2.6268 - val_loss: 2.6135\n",
      "Epoch 11/50\n",
      "308/308 [==============================] - 139s 452ms/step - loss: 2.5954 - val_loss: 2.5936\n",
      "Epoch 12/50\n",
      "308/308 [==============================] - 139s 450ms/step - loss: 2.5655 - val_loss: 2.5680\n",
      "Epoch 13/50\n",
      "308/308 [==============================] - 139s 450ms/step - loss: 2.5374 - val_loss: 2.5294\n",
      "Epoch 14/50\n",
      "308/308 [==============================] - 139s 453ms/step - loss: 2.5105 - val_loss: 2.5034\n",
      "Epoch 15/50\n",
      "308/308 [==============================] - 139s 451ms/step - loss: 2.4844 - val_loss: 2.4686\n",
      "Epoch 16/50\n",
      "308/308 [==============================] - 139s 451ms/step - loss: 2.4593 - val_loss: 2.4442\n",
      "Epoch 17/50\n",
      "308/308 [==============================] - 139s 451ms/step - loss: 2.4349 - val_loss: 2.4169\n",
      "Epoch 18/50\n",
      "308/308 [==============================] - 139s 451ms/step - loss: 2.4109 - val_loss: 2.3905\n",
      "Epoch 19/50\n",
      "308/308 [==============================] - 139s 453ms/step - loss: 2.3857 - val_loss: 2.3582\n",
      "Epoch 20/50\n",
      "308/308 [==============================] - 141s 457ms/step - loss: 2.3569 - val_loss: 2.3300\n",
      "Epoch 21/50\n",
      "308/308 [==============================] - 139s 450ms/step - loss: 2.3240 - val_loss: 2.2820\n",
      "Epoch 22/50\n",
      "308/308 [==============================] - 139s 451ms/step - loss: 2.2867 - val_loss: 2.2628\n",
      "Epoch 23/50\n",
      "308/308 [==============================] - 140s 453ms/step - loss: 2.2462 - val_loss: 2.2186\n",
      "Epoch 24/50\n",
      "308/308 [==============================] - 140s 453ms/step - loss: 2.2067 - val_loss: 2.1612\n",
      "Epoch 25/50\n",
      "308/308 [==============================] - 139s 451ms/step - loss: 2.1729 - val_loss: 2.1368\n",
      "Epoch 26/50\n",
      "308/308 [==============================] - 139s 450ms/step - loss: 2.1441 - val_loss: 2.1086\n",
      "Epoch 27/50\n",
      "308/308 [==============================] - 139s 450ms/step - loss: 2.1215 - val_loss: 2.0912\n",
      "Epoch 28/50\n",
      "308/308 [==============================] - 139s 450ms/step - loss: 2.1027 - val_loss: 2.0804\n",
      "Epoch 29/50\n",
      "308/308 [==============================] - 138s 449ms/step - loss: 2.0863 - val_loss: 2.0682\n",
      "Epoch 30/50\n",
      "308/308 [==============================] - 139s 451ms/step - loss: 2.0724 - val_loss: 2.0595\n",
      "Epoch 31/50\n",
      "308/308 [==============================] - 139s 450ms/step - loss: 2.0599 - val_loss: 2.0604\n",
      "Epoch 32/50\n",
      "308/308 [==============================] - 138s 449ms/step - loss: 2.0494 - val_loss: 2.0515\n",
      "Epoch 33/50\n",
      "308/308 [==============================] - 139s 453ms/step - loss: 2.0400 - val_loss: 2.0382\n",
      "Epoch 34/50\n",
      "308/308 [==============================] - 140s 455ms/step - loss: 2.0303 - val_loss: 2.0328\n",
      "Epoch 35/50\n",
      "308/308 [==============================] - 141s 457ms/step - loss: 2.0229 - val_loss: 2.0339\n",
      "Epoch 36/50\n",
      "308/308 [==============================] - 140s 454ms/step - loss: 2.0155 - val_loss: 2.0234\n",
      "Epoch 37/50\n",
      "308/308 [==============================] - 141s 457ms/step - loss: 2.0091 - val_loss: 2.0255\n",
      "Epoch 38/50\n",
      "308/308 [==============================] - 141s 456ms/step - loss: 2.0030 - val_loss: 2.0197\n",
      "Epoch 39/50\n",
      "308/308 [==============================] - 138s 449ms/step - loss: 1.9966 - val_loss: 2.0159\n",
      "Epoch 40/50\n",
      "308/308 [==============================] - 139s 452ms/step - loss: 1.9915 - val_loss: 2.0156\n",
      "Epoch 41/50\n",
      "308/308 [==============================] - 140s 456ms/step - loss: 1.9865 - val_loss: 2.0183\n",
      "Epoch 42/50\n",
      "308/308 [==============================] - 140s 454ms/step - loss: 1.9818 - val_loss: 2.0073\n",
      "Epoch 43/50\n",
      "308/308 [==============================] - 140s 455ms/step - loss: 1.9769 - val_loss: 2.0054\n",
      "Epoch 44/50\n",
      "308/308 [==============================] - 140s 455ms/step - loss: 1.9733 - val_loss: 2.0097\n",
      "Epoch 45/50\n",
      "308/308 [==============================] - 140s 455ms/step - loss: 1.9692 - val_loss: 2.0077\n",
      "Epoch 00045: early stopping\n"
     ]
    }
   ],
   "source": [
    "model.compile(optimizer='rmsprop', loss='sparse_categorical_crossentropy')\n",
    "es = EarlyStopping(monitor='val_loss', patience=2, verbose=1)\n",
    "history = model.fit(x=[encoder_input_train, decoder_input_train], y=decoder_target_train, \\\n",
    "          validation_data=([encoder_input_test, decoder_input_test], decoder_target_test), \\\n",
    "          batch_size=256, callbacks=[es], epochs=50)"
   ]
  },
  {
   "cell_type": "markdown",
   "id": "2d3136b0",
   "metadata": {},
   "source": [
    "이거 훈련 진행하는데 early stopping이거 있으면 조건이 충족되었을 시 남은횟수와 상관없이 종료한다.\n",
    "근데 이거 거의 끝자락에서 종료해서 한두시간 잡아먹은거 같다."
   ]
  },
  {
   "cell_type": "code",
   "execution_count": 44,
   "id": "4d10d1b2",
   "metadata": {},
   "outputs": [
    {
     "data": {
      "image/png": "[encoded data removed]",
      "text/plain": [
       "<Figure size 432x288 with 1 Axes>"
      ]
     },
     "metadata": {
      "needs_background": "light"
     },
     "output_type": "display_data"
    }
   ],
   "source": [
    "plt.plot(history.history['loss'], label='train')\n",
    "plt.plot(history.history['val_loss'], label='test')\n",
    "plt.legend()\n",
    "plt.show()"
   ]
  },
  {
   "cell_type": "markdown",
   "id": "4a101798",
   "metadata": {},
   "source": [
    "훈련 데이터와 테스트 데이터 손실이 줄어드는거 그래프로 보는데 거의 똑같은거 같다."
   ]
  },
  {
   "cell_type": "code",
   "execution_count": 45,
   "id": "4148d1e0",
   "metadata": {},
   "outputs": [
    {
     "name": "stdout",
     "output_type": "stream",
     "text": [
      "=3\n"
     ]
    }
   ],
   "source": [
    "src_index_to_word = src_tokenizer.index_word # 원문 단어 집합에서 정수 -> 단어를 얻음\n",
    "tar_word_to_index = tar_tokenizer.word_index # 요약 단어 집합에서 단어 -> 정수를 얻음\n",
    "tar_index_to_word = tar_tokenizer.index_word # 요약 단어 집합에서 정수 -> 단어를 얻음\n",
    "\n",
    "print('=3')"
   ]
  },
  {
   "cell_type": "markdown",
   "id": "03b983f2",
   "metadata": {},
   "source": [
    "테스트 단계에서는 정수 인덱스 행렬로 존재하던 텍스트 데이터를 실제 데이터로 복원해야 하기 때문에, 필요한 3개의 사전을 준비해준다."
   ]
  },
  {
   "cell_type": "code",
   "execution_count": 46,
   "id": "d869608a",
   "metadata": {},
   "outputs": [
    {
     "name": "stdout",
     "output_type": "stream",
     "text": [
      "=3\n"
     ]
    }
   ],
   "source": [
    "# 인코더 설계\n",
    "encoder_model = Model(inputs=encoder_inputs, outputs=[encoder_outputs, state_h, state_c])\n",
    "\n",
    "# 이전 시점의 상태들을 저장하는 텐서\n",
    "decoder_state_input_h = Input(shape=(hidden_size,))\n",
    "decoder_state_input_c = Input(shape=(hidden_size,))\n",
    "\n",
    "dec_emb2 = dec_emb_layer(decoder_inputs)\n",
    "\n",
    "# 문장의 다음 단어를 예측하기 위해서 초기 상태(initial_state)를 이전 시점의 상태로 사용. 이는 뒤의 함수 decode_sequence()에 구현\n",
    "# 훈련 과정에서와 달리 LSTM의 리턴하는 은닉 상태와 셀 상태인 state_h와 state_c를 버리지 않음.\n",
    "decoder_outputs2, state_h2, state_c2 = decoder_lstm(dec_emb2, initial_state=[decoder_state_input_h, decoder_state_input_c])\n",
    "\n",
    "print('=3')"
   ]
  },
  {
   "cell_type": "markdown",
   "id": "e5c9591c",
   "metadata": {},
   "source": [
    "아까 훈련단계에서 디코더 입력부에 정답이 되는 문장 전체를 한번에 넣고 디코더의 출력과 한번에 비교할 수 있어서 인코더와 디코더를 한번에 넣었지만, 이건 정답이 없는 인퍼런스 단계이므로 인코더모델만 따로 분리해서 설계해야 한다."
   ]
  },
  {
   "cell_type": "code",
   "execution_count": 47,
   "id": "8be3d526",
   "metadata": {},
   "outputs": [
    {
     "name": "stdout",
     "output_type": "stream",
     "text": [
      "=3\n"
     ]
    }
   ],
   "source": [
    "# 어텐션 함수\n",
    "decoder_hidden_state_input = Input(shape=(headlines_max_len, hidden_size))\n",
    "attn_out_inf = attn_layer([decoder_outputs2, decoder_hidden_state_input])\n",
    "decoder_inf_concat = Concatenate(axis=-1, name='concat')([decoder_outputs2, attn_out_inf])\n",
    "\n",
    "# 디코더의 출력층\n",
    "decoder_outputs2 = decoder_softmax_layer(decoder_inf_concat) \n",
    "\n",
    "# 최종 디코더 모델\n",
    "decoder_model = Model(\n",
    "    [decoder_inputs] + [decoder_hidden_state_input,decoder_state_input_h, decoder_state_input_c],\n",
    "    [decoder_outputs2] + [state_h2, state_c2])\n",
    "\n",
    "print('=3')"
   ]
  },
  {
   "cell_type": "markdown",
   "id": "1bf34f5f",
   "metadata": {},
   "source": [
    "여기서는 어텐션 함수를 이용해서 출력층을 설계했다."
   ]
  },
  {
   "cell_type": "code",
   "execution_count": 57,
   "id": "ae8b8c2e",
   "metadata": {},
   "outputs": [
    {
     "name": "stdout",
     "output_type": "stream",
     "text": [
      "=3\n"
     ]
    }
   ],
   "source": [
    "def decode_sequence(input_seq):\n",
    "    # 입력으로부터 인코더의 상태를 얻음\n",
    "    e_out, e_h, e_c = encoder_model.predict(input_seq)\n",
    "\n",
    "     # <SOS>에 해당하는 토큰 생성\n",
    "    target_seq = np.zeros((1,1))\n",
    "    target_seq[0, 0] = tar_word_to_index['sostoken']\n",
    "\n",
    "    stop_condition = False\n",
    "    decoded_sentence = ''\n",
    "    while not stop_condition: # stop_condition이 True가 될 때까지 루프 반복\n",
    "\n",
    "        output_tokens, h, c = decoder_model.predict([target_seq] + [e_out, e_h, e_c])\n",
    "        sampled_token_index = np.argmax(output_tokens[0, -1, :])\n",
    "        sampled_token = tar_index_to_word[sampled_token_index]\n",
    "\n",
    "        if (sampled_token!='eostoken'):\n",
    "            decoded_sentence += ' '+sampled_token\n",
    "\n",
    "        #  <eos>에 도달하거나 최대 길이를 넘으면 중단.\n",
    "        if (sampled_token == 'eostoken'  or len(decoded_sentence.split()) >= (text_max_len-1)):\n",
    "            stop_condition = True\n",
    "\n",
    "        # 길이가 1인 타겟 시퀀스를 업데이트\n",
    "        target_seq = np.zeros((1,1))\n",
    "        target_seq[0, 0] = sampled_token_index\n",
    "\n",
    "        # 상태를 업데이트 합니다.\n",
    "        e_h, e_c = h, c\n",
    "\n",
    "    return decoded_sentence\n",
    "print('=3')"
   ]
  },
  {
   "cell_type": "markdown",
   "id": "23f30448",
   "metadata": {},
   "source": [
    "인퍼런스 단계에서 단어 시퀀스를 완성하는 함수"
   ]
  },
  {
   "cell_type": "code",
   "execution_count": 58,
   "id": "2f77f679",
   "metadata": {},
   "outputs": [
    {
     "name": "stdout",
     "output_type": "stream",
     "text": [
      "=3\n"
     ]
    }
   ],
   "source": [
    "# 원문의 정수 시퀀스를 텍스트 시퀀스로 변환\n",
    "def seq2text(input_seq):\n",
    "    temp=''\n",
    "    for i in input_seq:\n",
    "        if (i!=0):\n",
    "            temp = temp + src_index_to_word[i]+' '\n",
    "    return temp\n",
    "\n",
    "# 요약문의 정수 시퀀스를 텍스트 시퀀스로 변환\n",
    "def seq2summary(input_seq):\n",
    "    temp=''\n",
    "    for i in input_seq:\n",
    "        if ((i!=0 and i!=tar_word_to_index['sostoken']) and i!=tar_word_to_index['eostoken']):\n",
    "            temp = temp + tar_index_to_word[i] + ' '\n",
    "    return temp\n",
    "\n",
    "print('=3')"
   ]
  },
  {
   "cell_type": "markdown",
   "id": "7aabafc6",
   "metadata": {},
   "source": [
    " 함수를 만들 때, headlines의 정수 시퀀스에서는 패딩을 위해 사용되는 숫자 0을 제외하고 text의 정수 시퀀스에서는 숫자 0, 시작 토큰의 인덱스, 종료 토큰의 인덱스를 출력에서 제외하도록 만들어보자."
   ]
  },
  {
   "cell_type": "code",
   "execution_count": 59,
   "id": "f909783f",
   "metadata": {},
   "outputs": [
    {
     "name": "stdout",
     "output_type": "stream",
     "text": [
      "원문 : want is that yes there is sense beyond that it is just conversation \n",
      "실제 요약 : actress anushka sharma has said one cannot actors or star kids for when am working with star or non star am not that the other person is working any less added anushka she further said all that people want is that there is that it is just \n",
      "예측 요약 :  actor has said that he is not to be as the film is not the film is not he added that he is not the film is not the film is not he added further said that there is that there is that there is that there is that it is just\n",
      "\n",
      "\n",
      "원문 : release on october will mark the first collaboration of with ayushmann and tabu \n",
      "실제 요약 : the trailer of and starrer has been released the role of player while his love interest in the film directed by the film is scheduled to release on october will mark the first of with and \n",
      "예측 요약 :  actor ajay has said that he will not be able to play the film as per reports the film will be produced by the film which will be produced by and directed by and ajay will mark the first of with and\n",
      "\n",
      "\n",
      "원문 : nine flights were diverted from the airport mid air on friday reports said \n",
      "실제 요약 : pilot airways plane at airport in the uk after it was by kmph on friday the power of mother the of the airline the who the landing said around nine flights were from the airport mid air on friday reports said \n",
      "예측 요약 :  the delhi airport has issued an air india flight to passengers and passengers travelling to passengers and passengers the airport said the flight was not by passengers and crew members were from the airport the airport was from the airport mid air on friday reports said\n",
      "\n",
      "\n",
      "원문 : every indian should have access to good governance and positive results of development \n",
      "실제 요약 : referring to the swaraj is my and have it made by freedom prime minister narendra modi has said today is the time to say that good is our and we will have it he added every indian should have access to good and results of development \n",
      "예측 요약 :  prime minister narendra modi on friday said that the country is not to the of the country he added that the country is the only indian to the of the country he added that the indian should have access to good and results of development\n",
      "\n",
      "\n",
      "원문 : of the nearly billion foreign aid to syria approved by the us congress \n",
      "실제 요약 : the us announced on friday that it is million in funding for syria and will the funds to other areas the fund was reportedly going to be spent to water systems clear or up and was part of the nearly billion foreign aid to syria approved by the us congress \n",
      "예측 요약 :  us president donald trump has said that the us is not to syria as the country foreign minister has said that the us is not the of the country the us has said that the us has been the of the nearly billion foreign aid to syria approved by the us congress\n",
      "\n",
      "\n",
      "원문 : scientists believe it the from growing and helping them swim towards the egg \n",
      "실제 요약 : using whose won the nobel researchers have identified new inside human the produced images by the to about which showed in from the scientists believe it the from and them towards the \n",
      "예측 요약 :  scientists have discovered that the of the sun is the first ever to the sun the of the sun the sun the of the sun the sun is the first time that the sun towards the scientists believe it the from and them towards the\n",
      "\n",
      "\n",
      "원문 : from their native village when they were detained the policemen have been suspended \n",
      "실제 요약 : two policemen of the anti squad in uttar pradesh detained two on sunday and allegedly demanded of to release them youth and his daughter both aged about were home after from their village when they were detained the policemen have been suspended \n",
      "예측 요약 :  the police have arrested two policemen and others were arrested for allegedly policemen in uttar pradesh district the police said the police said the police recovered from the policemen and the police said they were detained by their village when they were detained the policemen have been suspended the policemen have been suspended the policemen have been suspended the policemen have been suspended the policemen have been suspended\n",
      "\n",
      "\n",
      "원문 : if their demands including pay scale and of staff council were not met \n",
      "실제 요약 : the delhi high court on friday stopped delhi metro corporation employees from going on strike from saturday saying they are running public service that lakh people daily non executive staff members of the had threatened strike if their including pay and of staff council were not met \n",
      "예측 요약 :  the delhi high court on monday ordered the centre to pay lakh to lakh crore to the state government the court also asked the centre to file an fir against the centre and the state government the court said the court had asked if their including pay and of staff council were not met\n",
      "\n",
      "\n",
      "원문 : damaged their crop and they had incurred huge debts after taking land on \n",
      "실제 요약 : man carried his wife on his and ran for over three to her to hospital in telangana after she allegedly however she was declared brought dead the incident occurred when the couple reportedly had their and they had huge after taking land on \n",
      "예측 요약 :  the delhi police has arrested two people for allegedly trying to their and their bodies in the city of the police said the police said the accused were arrested after the police arrested the police and they had huge after taking land on their and they had huge after taking land on\n",
      "\n",
      "\n",
      "원문 : when it was less than the paper said that income reduced during the \n",
      "실제 요약 : the share of india national income to the top income is now at new paper by and showed notably this is the highest level since indian income tax law was in when it was less than the paper said that income reduced during the \n",
      "예측 요약 :  the delhi high court on monday said that income tax department has been asked to pay crore to the paper of the delhi metro corporation the court also asked the centre to the paper to the paper said that income reduced during the paper said that income reduced during the paper said that income reduced during the paper said that income reduced during the paper said that income\n",
      "\n",
      "\n",
      "원문 : throw different kind of that affects the beauty of dal lake she said \n",
      "실제 요약 : five year old girl in jammu and kashmir has started drive to clean along with her father as part of her drive she is everyone to use instead of in the people including and always different kind of that the of she said \n",
      "예측 요약 :  the of the of the of the has been released the film has been by the film which is based on the film the film is based on events of that the of she said\n",
      "\n",
      "\n",
      "원문 : for so long that have forgotten what life is like outside this place \n",
      "실제 요약 : hailing startup uber newly appointed ceo and ex ceo in to employees has said have to tell you am adding that leaving the company was one of the of his life he said have been here at for so long that have what life is like outside this place \n",
      "예측 요약 :  actor has said that he is not to be the most in the film industry he added that he is not the film he further said that he is not the film is like he added further said that he is not for so long that have what life is like outside this place\n",
      "\n",
      "\n",
      "원문 : call for ban on pakistani working in indian films post uri attack in \n",
      "실제 요약 : actor khan has said that he will speak on whether pakistani should be allowed to work in india or not if his statement is not he added will take stand when there will be responsible people around there was call for ban on pakistani working in indian films post attack in \n",
      "예측 요약 :  the indian army has said that the indian army is planning to ban on pakistani kashmir and pakistan the ministry added that the government has decided to ban on pakistani working in the country the ministry said the government has also asked for ban on pakistani working in indian films post attack in indian films post attack in indian films post attack in indian films post attack in\n",
      "\n",
      "\n",
      "원문 : include subjects like science social science hindi english and mathematics for the students \n",
      "실제 요약 : the uttar pradesh government on tuesday approved the of national council of research and training in the will be introduced in hindi and english reportedly would also be introduced in the which will include like science social science hindi english and for the students \n",
      "예측 요약 :  the hindi language of the hindi language film has been released the hindi language film which is based on the of the hindi language film hindi hindi hindi hindi hindi hindi and for the students include like science social science english and for the students\n",
      "\n",
      "\n",
      "원문 : however there has been in assam and west bengal since january this year \n",
      "실제 요약 : bangladesh has pakistan to become the of production and of fake notes according to data by the border security force there have been almost no of fake currency in the states along the pakistan border since demonetisation however there has been in assam and west bengal since january this year \n",
      "예측 요약 :  the centre has decided to the of the state government in assam to the state government in the state the state government has said that the state government will not be able to the of the state government however there has been in assam and west bengal since january this year\n",
      "\n",
      "\n",
      "원문 : blame anybody though there was time thought of leaving the game he added \n",
      "실제 요약 : ex cricketer revealed it was for him to not be part of india world cup squad the year old added he was india highest in series to the world cup and was to play the tournament do not though there was time thought of leaving the game he added \n",
      "예측 요약 :  former australian captain michael has said that he is not to the team of the game he added that he is not the best thing to be the game he is not going to be the game he added that there was time thought of leaving the game he added\n",
      "\n",
      "\n",
      "원문 : said they were planning attacks against state institutions and tourist sites among others \n",
      "실제 요약 : forces on saturday claimed to have killed terrorists day after four people were killed in an that hit bus near the the terrorists were killed in three separate in the and north the ministry said they were planning attacks against state and among others \n",
      "예측 요약 :  the centre has decided to the of the state and tourism corporation in the state the state government has said that the state government will not be able to the of the state and the state government said they were planning attacks against state and among others\n",
      "\n",
      "\n",
      "원문 : today group for years the group print television and radio businesses among others \n",
      "실제 요약 : chief executive officer of india today group which runs news india today and resigned on monday from his position who is also the current president of news association has been part of india today group for years the group television and among others \n",
      "예측 요약 :  group of group founder and ceo has been group of group of group group and group of group of group of group and others in the group television group group group group group group group group group group group and among others others\n",
      "\n",
      "\n",
      "원문 : the striker reportedly said croatia played the rest of the tournament with players \n",
      "실제 요약 : forward who was sent home after to come on as during the team victory against in the fifa world cup has reportedly the up medal thank you but did not play in russia the reportedly said played the of the tournament with players \n",
      "예측 요약 :  the indian team of the tournament in the final of the tournament the team defeated the team to win the tournament in the final of the tournament the team said played the of the tournament with players\n",
      "\n",
      "\n",
      "원문 : up and molested in uttar pradesh by group of local boys on sunday \n",
      "실제 요약 : minister of external affairs swaraj has sought report from the uttar pradesh government on the alleged of french in the state district reportedly eight people were arrested in connection with the case group of french were allegedly beaten up and in uttar pradesh by group of local boys on sunday \n",
      "예측 요약 :  the uttar pradesh police has arrested year old man for allegedly raping year old girl in uttar pradesh the accused had been arrested in the case the accused who was arrested in connection with the case the accused had been arrested in uttar pradesh by group of local boys on sunday\n",
      "\n",
      "\n",
      "원문 : north korea possible participation in the winter olympics in south korea next month \n",
      "실제 요약 : south korea has called north korea decision to an korean channel very south korea the move as an important step in between the two nations after of almost two years the is being opened to north korea possible in the olympics in south korea next month \n",
      "예측 요약 :  north korean leader kim jong un has said that north korea will not be able to the north korean leader kim jong un north korea and south korea the north korean leader kim jong un has said that north korea will not be able to the north korea possible in the olympics in south korea next month\n",
      "\n",
      "\n",
      "원문 : he added bobby further said he never thought people were competing with him \n",
      "실제 요약 : speaking about his in the said wish had reached the level up with two three but never that was about it wish had it that would have made me focus on not losing it he added further said he never thought people were with him \n",
      "예측 요약 :  while talking about his upcoming film said he is not the film is not the film is not he added he further said he never thought people were and not to be able to work with him he added further said he never thought people were with him\n",
      "\n",
      "\n",
      "원문 : portugal has been facing its year of with over lakh of land destroyed \n",
      "실제 요약 : the government has declared state of emergency after cut off town people authorities at the said that it was to leave or enter the town because of the and the has been facing its year of with over lakh of land \n",
      "예측 요약 :  the us has the of the world largest cryptocurrency in the country the us has said the us has been ranked th and the world largest in the past years has been facing its year of with over lakh of land\n",
      "\n",
      "\n",
      "원문 : victim and her father threatened to commit suicide after the video went viral \n",
      "실제 요약 : girl from was reportedly and by group of students in women college over of mobile phone the girl was asked to penalty of failing which the students council threatened to the video the victim and her father threatened to suicide after the video went viral \n",
      "예측 요약 :  year old girl was allegedly raped by her husband in uttar pradesh on monday the accused who was raped by the police said the accused had been arrested in the victim and her father and her father threatened to suicide after the video went viral the victim and her father threatened to suicide after the video went viral\n",
      "\n",
      "\n",
      "원문 : life as it was and he also suggested or shooting as alternative methods \n",
      "실제 요약 : the supreme court issued notice to the centre to think of to while hearing petition seeking of by practice for death penalty the said was not way to end life as it was and he also suggested or shooting as \n",
      "예측 요약 :  has said that he is not to the of the film industry he added that the film is not the film is not the film is not the film is and he also suggested that the film is and he also suggested or shooting as\n",
      "\n",
      "\n",
      "원문 : the new rules would also ease travel restrictions on foreign journalists hussain said \n",
      "실제 요약 : the pakistan government on friday announced to travel in bid to tourism with the information minister calling the country for pakistan will on to citizens from countries and provide to the new rules would also travel on foreign said \n",
      "예측 요약 :  the us has issued an order to the us citizens of the country to the country the move comes after the us imposed ban on foreign citizens in the country the move is aimed at foreign citizens in the new rules would also travel on foreign said\n",
      "\n",
      "\n",
      "원문 : september notably the flight school has been involved in total of incidents since \n",
      "실제 요약 : year old female pilot from india was among three people killed in mid air between two training aircraft from flight school in us had reportedly at the international flight school in september notably the flight school has been involved in total of incidents since \n",
      "예측 요약 :  the flight of the flight was after the flight of the flight in the us city of the flight the flight was reportedly by the crew members of the flight and the flight was not allowed to be notably the flight school has been involved in total of incidents since\n",
      "\n",
      "\n",
      "원문 : each in coins retailers are left with coins worth lakh each traders alleged \n",
      "실제 요약 : the police has booked for and prime minister narendra modi to north korean leader kim jong un in bid to protest against banks to while those in business have lakh each in are left with worth lakh each alleged \n",
      "예측 요약 :  the cbi has registered case against persons for allegedly fake news and the cbi said the cbi has registered case against nirav modi and his wife and others in connection with the alleged in are left with worth lakh each alleged\n",
      "\n",
      "\n",
      "원문 : that tata sons was minority shareholders after cyrus mistry as tata sons chairman \n",
      "실제 요약 : tata have requested the national company law tribunal to allowing tata to buy out firms stake in the company it would be in the best interest of tata to the it said family firms had claimed that tata was after as tata chairman \n",
      "예측 요약 :  tata chairman has said that tata chairman is tata chairman and tata chairman tata is very difficult to be tata chairman he added that tata chairman is not to tata chairman and tata chairman tata chairman tata chairman tata chairman said tata was after as tata chairman chairman\n",
      "\n",
      "\n",
      "원문 : sell them there police is using the footage to trace the mastermind behind \n",
      "실제 요약 : two in bihar electric worth lakh on sunday and were arrested by the police after who recorded the incident informed them the were kept at the by the electricity department reportedly tried taking those to punjab to sell them there police is using the footage to the behind \n",
      "예측 요약 :  the police on wednesday arrested year old man for allegedly killing his year old son in law the police said the accused had been arrested in the case after he was arrested for allegedly raping his year old daughter and them there police is using the footage to the behind them there police is using the footage to the behind\n",
      "\n",
      "\n",
      "원문 : over lakh litres of domestic and litres of beer till april this year \n",
      "실제 요약 : total of people were arrested for bihar liquor ban in year since its in april secretary of and said on friday authorities also seized over lakh of india made foreign liquor over lakh of domestic and of till april this year \n",
      "예측 요약 :  the delhi high court has directed the maharashtra government to the of the state for the of the state the court also directed the centre to the of the court the court also directed the centre to over lakh of domestic and of till april this year\n",
      "\n",
      "\n",
      "원문 : earlier catalonia had claimed that of the participants voted in favour of independence \n",
      "실제 요약 : independence from spain would not international france said on monday ahead of government of last week independence vote result this crisis needs to be through at all levels of spanish politics france urged earlier had claimed that of the in of independence \n",
      "예측 요약 :  the supreme court on monday ruled that the centre will not be allowed to the constitution of independence in the country the court had earlier ordered the of the constitution to the of independence in the earlier had claimed that of the in of independence independence\n",
      "\n",
      "\n",
      "원문 : further emphasised that the startup ecosystem requires community of investors who take risks \n",
      "실제 요약 : tata chairman of tata while speaking about indian startup at an event has said he does not think india has as many really startups as he added that india does not have an environment where people support great tata further that the startup community of investors who take \n",
      "예측 요약 :  us based startup has raised million in series funding round led by capital and ventures the funding round also saw from existing investors including capital and capital and capital also participated in the round founded in startup who take\n",
      "\n",
      "\n",
      "원문 : abuses she further expressed her about uber lack of customer care in india \n",
      "실제 요약 : actor took to social media to share an incident of her being by an uber driver wrote when she requested the driver to increase the air he stopped the car and at her to get out and later started she further her about uber lack of care in india \n",
      "예측 요약 :  uber ceo has said that he is not to be the of the company he added that the company is not to the of the company and the company is not working on the she further her about uber lack of care in india\n",
      "\n",
      "\n",
      "원문 : people have more cash in hand now than prior to demonetisation he added \n",
      "실제 요약 : referring to finance minister arun jaitley ex finance minister on friday said many of us think he was not even taken into when demonetisation was announced claimed there are the centre demonetisation so people with black money could it into white people have more cash in hand now than to demonetisation he added \n",
      "예측 요약 :  former finance minister has said that the country is not to demonetisation and the world is not the world most people have to be in the world and we are not to demonetisation he added that the people have more cash in hand now than to demonetisation he added\n",
      "\n",
      "\n",
      "원문 : while adding that they would file counter case for violation of human rights \n",
      "실제 요약 : police has filed an fir against chief his wife and other party members over the murder of three workers and alleged in the recent violence senior leader said why should we kill our own people while adding that they would file case for of human rights \n",
      "예측 요약 :  the supreme court on monday ordered the centre to stop the of the court in the case the court also directed the centre to the of the court and the court said it would file case for of human rights and adding that they would file case for of human rights\n",
      "\n",
      "\n",
      "원문 : duty is to protect domestic industry from an increase in cheap price imports \n",
      "실제 요약 : india has imposed anti duty on used for mobile phone from china for five years to protect the domestic industry from below cost the anti duty is in the range of per on from china notably anti duty is to protect domestic industry from an increase in price \n",
      "예측 요약 :  india has said that it is not possible to the of the country in the country the government has said that the country is not to the of the country he added that the government is to protect domestic industry from an increase in price\n",
      "\n",
      "\n",
      "원문 : killing pakistani national one left in uae will return after his gets completed \n",
      "실제 요약 : indians on death for murder in have been released and have returned home after an paid blood money as compensation to the victims while five were convicted for the murder of man from uttar pradesh ten were convicted for killing pakistani national one left in will return after his completed \n",
      "예측 요약 :  the indian army has said that the country is not to the of the country the indian army has said that the country is not to the of the country the pakistani army has said that the pakistani pakistani pakistani one left in will return after his completed\n",
      "\n",
      "\n",
      "원문 : on friday day after verma was sacked by pm narendra modi led panel \n",
      "실제 요약 : cbi gupta and would be moving the supreme court seeking of court against their issued by chief rao both were part of cbi director team in corruption cases their on friday day after was by pm narendra modi led panel \n",
      "예측 요약 :  the cbi has arrested former deputy chief minister of the cbi for allegedly the of the cbi the cbi has registered case against the cbi and the cbi has registered case against the cbi on friday day after was by pm narendra modi led panel led panel led panel led panel led panel led panel led panel led panel led panel led panel led panel led panel led\n",
      "\n",
      "\n",
      "원문 : from an branch of life that has not been described before scientists added \n",
      "실제 요약 : like have been found in south african dating back billion years the evidence of possible life by at most billion years the it may have scientists said if not the could be from an of life that has not been described before scientists added \n",
      "예측 요약 :  us president donald trump has said that he is not to the country and the country is not the world most person he added that the country is not the of life that has not been described as an of life that has not been described before scientists added\n",
      "\n",
      "\n",
      "원문 : could before september they concluded that it was call when nothing was found \n",
      "실제 요약 : bengaluru police has arrested people for making call regarding bomb threat to karnataka and bomb team and dog squad the after the said the bomb could before september they that it was call when nothing was found \n",
      "예측 요약 :  the delhi police on monday arrested year old man for allegedly raping year old girl in the case the accused who was arrested in the case the accused was arrested in the case after the police said that it was found that it was call when nothing was found when nothing was found when nothing was found when nothing was found when nothing was found when nothing was\n",
      "\n",
      "\n",
      "원문 : to approach the court against authorities for not collecting the fine so far \n",
      "실제 요약 : two vehicles registered to bjp kerala state president have been fined lakh for traffic rule this was revealed in response to an by who claims the committed are for he also decided to the court against authorities for not the fine so far \n",
      "예측 요약 :  the supreme court on monday ordered the fine of to the fine of the court to the court order to the court order to the court order to the court order to the court against authorities for not the fine so far fine so far\n",
      "\n",
      "\n",
      "원문 : this was the sixth ceasefire violation along the loc in last five days \n",
      "실제 요약 : all schools near in jammu and kashmir district will remain shut for next three days to ensure safety and security of citizens following the recent the was made on twitter by deputy commissioner shahid on thursday as per reports this was the sixth along the in last five days \n",
      "예측 요약 :  the army has said that the army has been killed and injured in the attack on the army the army has said the army has been deployed in the area and the army was the sixth along the border in last five days this was the sixth along the in last five days\n",
      "\n",
      "\n",
      "원문 : day to day other winners included based date focused note taking app agenda \n",
      "실제 요약 : chennai based startup has won the apple award along with nine other startups from different countries is that uses such as to share results in other to help users day to day other included based date note taking app \n",
      "예측 요약 :  the delhi high court on monday ordered the centre to the centre to the of the word for the upcoming session the court also directed the centre to the of the court to day other included mps taking app to day other included note taking app\n",
      "\n",
      "\n",
      "원문 : not correct the violation then we will act against them an official said \n",
      "실제 요약 : the uttar pradesh pollution control board has started to noida where large sets are in of rules leading to air pollution the were reportedly served after residents filed complaints with the state pollution control body if they will not the then we will act against them an official said \n",
      "예측 요약 :  the delhi police has arrested two people for allegedly trying to the of the accused in the case the police said the accused were arrested after the police arrested the police for the first time in the case the police said the police had not the then we will act against them an official said\n",
      "\n",
      "\n",
      "원문 : visa holders could be deported from the us indians account for of workers \n",
      "실제 요약 : the proposed us bill on is with conditions and places on indian it companies and using the body for indian it industry has said if the proposal is up to lakh indian could be from the us indians account for of workers \n",
      "예측 요약 :  us president donald trump has said that the country is not to the country and the us to the us and the us is not the of the us he added that the us has been from the us indians account for of workers\n",
      "\n",
      "\n",
      "원문 : un human rights council notably north korea has the council as us conspiracy \n",
      "실제 요약 : north korea has agreed to visit by un on the rights of people with the united nations said on thursday her visit will be the first ever to north korea by an independent by un human rights council notably north korea has the council as us \n",
      "예측 요약 :  north korea has said that north korea has been the nuclear weapons and missile programme the us state media reported the us state media reported that north korea nuclear weapons programme in the us state of the un human rights council notably north korea has the council as us\n",
      "\n",
      "\n",
      "원문 : pm claimed he would war on corruption because he is from common household \n",
      "실제 요약 : in at congress president rahul gandhi pm narendra modi on wednesday said those on bail will have to go to jail pm modi added he is out on bail and his too are facing charges know they will be convicted one day the pm claimed he would war on corruption because he is from \n",
      "예측 요약 :  pm narendra modi on monday said that the country is not to the country and the country is not to the country he added that the country is not to the country and the country pm modi claimed he would war on corruption because he is from\n",
      "\n",
      "\n",
      "원문 : the issue and found that he was when he tweeted the fake complaint \n",
      "실제 요약 : madhya pradesh man has been arrested for false complaint via twitter against indian railways personnel on board the express on monday after his tweet to railway minister railway protection force the train to look into the issue and found that he was when he tweeted the fake complaint \n",
      "예측 요약 :  the police on monday arrested year old man for allegedly raping year old girl in the police said the accused had been arrested in the case the accused who was arrested in the case the accused was arrested in the complaint and found that he was when he tweeted the fake complaint\n",
      "\n",
      "\n",
      "원문 : the film the film will be produced by husband of rajinikanth daughter aishwarya \n",
      "실제 요약 : according to reports actress will star actor in an upcoming film being directed by according to will play love interest in the film the film will be produced by husband of daughter \n",
      "예측 요약 :  actress sonam kapoor will be seen playing the role of in the upcoming film the queen of the film will be produced by husband and will be produced by husband and will be produced by husband of daughter the film will be produced by husband of daughter\n",
      "\n",
      "\n"
     ]
    }
   ],
   "source": [
    "for i in range(50, 100):\n",
    "    print(\"원문 :\", seq2text(encoder_input_test[i]))\n",
    "    print(\"실제 요약 :\", seq2summary(decoder_input_test[i]))\n",
    "    print(\"예측 요약 :\", decode_sequence(encoder_input_test[i].reshape(1, headlines_max_len)))\n",
    "    print(\"\\n\")"
   ]
  },
  {
   "cell_type": "markdown",
   "id": "e80c7eb3",
   "metadata": {},
   "source": [
    "테스트 데이터 50개 샘플에 대해서 출력해 보았다.\n",
    "근데 영어라서 맞게 나온건가..?"
   ]
  },
  {
   "cell_type": "code",
   "execution_count": 60,
   "id": "866968cd",
   "metadata": {},
   "outputs": [],
   "source": [
    "import requests\n",
    "from summa.summarizer import summarize"
   ]
  },
  {
   "cell_type": "code",
   "execution_count": 61,
   "id": "33f44665",
   "metadata": {},
   "outputs": [],
   "source": [
    "text = requests.get('http://rare-technologies.com/the_matrix_synopsis.txt').text"
   ]
  },
  {
   "cell_type": "code",
   "execution_count": 62,
   "id": "2448c1b6",
   "metadata": {},
   "outputs": [
    {
     "name": "stdout",
     "output_type": "stream",
     "text": [
      "The screen is filled with green, cascading code which gives way to the title, The Matrix.\r\n",
      "\r\n",
      "A phone rings and text appears on the screen: \"Call trans opt: received. 2-19-98 13:24:18 REC: Log>\" As a conversation takes place between Trinity (Carrie-Anne Moss) and Cypher (Joe Pantoliano), two free humans, a table of random green numbers are being scanned and individual numbers selected, creating a series of digits not unlike an ordinary phone number, as if a code is being deciphered or a call is being traced.\r\n",
      "\r\n",
      "Trinity discusses some unknown person. Cypher taunts Trinity, suggesting she enjoys watching him. Trinity counters that \"Morpheus (Laurence Fishburne) says he may be 'the One',\" just as the sound of a number being selected alerts Trinity that someone may be tracing their call. She ends the call.\r\n",
      "\r\n",
      "Armed policemen move down a darkened, decrepit hallway in the Heart O' the City Hotel, their flashlight beam bouncing just ahead of them. They come to room 303, kick down the door and find a woman dressed in black, facing away from them. It's Trinity. She brings her hands up from the laptop she's working on at their command.\r\n",
      "\r\n",
      "Outside the hotel a car drives up and three agents appear in neatly pressed black suits. They are Agent Smith (Hugo Weaving), Agent Brown (Paul Goddard), and Agent Jones (Robert Taylor). Agent Smith and the presiding police lieutenant argue. Agent Smith admonishes the policeman that they were given specific orders to contact the agents first, for their\n"
     ]
    }
   ],
   "source": [
    "print(text[:1500])"
   ]
  },
  {
   "cell_type": "code",
   "execution_count": 63,
   "id": "9319f6bb",
   "metadata": {},
   "outputs": [
    {
     "name": "stdout",
     "output_type": "stream",
     "text": [
      "Summary:\n",
      "Morpheus, Trinity, Neo, Apoc, Switch, Mouse and Cypher are jacked into the Matrix.\n",
      "Trinity brings the helicopter down to the floor that Morpheus is on and Neo opens fire on the three Agents.\n"
     ]
    }
   ],
   "source": [
    "print('Summary:')\n",
    "print(summarize(text, ratio=0.005))"
   ]
  },
  {
   "cell_type": "code",
   "execution_count": 64,
   "id": "d2bdd321",
   "metadata": {},
   "outputs": [
    {
     "name": "stdout",
     "output_type": "stream",
     "text": [
      "Summary:\n",
      "['Morpheus, Trinity, Neo, Apoc, Switch, Mouse and Cypher are jacked into the Matrix.', 'Trinity brings the helicopter down to the floor that Morpheus is on and Neo opens fire on the three Agents.']\n"
     ]
    }
   ],
   "source": [
    "print('Summary:')\n",
    "print(summarize(text, ratio=0.005, split=True))"
   ]
  },
  {
   "cell_type": "code",
   "execution_count": 65,
   "id": "77a72322",
   "metadata": {},
   "outputs": [
    {
     "name": "stdout",
     "output_type": "stream",
     "text": [
      "Summary:\n",
      "Trinity takes Neo to Morpheus.\n",
      "Morpheus, Trinity, Neo, Apoc, Switch, Mouse and Cypher are jacked into the Matrix.\n",
      "Trinity brings the helicopter down to the floor that Morpheus is on and Neo opens fire on the three Agents.\n"
     ]
    }
   ],
   "source": [
    "print('Summary:')\n",
    "print(summarize(text, words=50))"
   ]
  },
  {
   "cell_type": "markdown",
   "id": "27cc4580",
   "metadata": {},
   "source": [
    "영화 매트릭스에 대한 뉴스 요약봇의 결과들이 나왔다.\n",
    "이번 익스 노드를 하면서, 처음부터 내가 맞게 한건가란 생각이 들었고, 진구님한테\n",
    "귀찮을 정도로 질문을 많이 했는데, 친절하게 자세하게 도움을 받을 수 있었다."
   ]
  },
  {
   "cell_type": "code",
   "execution_count": null,
   "id": "8c8cbc44",
   "metadata": {},
   "outputs": [],
   "source": []
  }
 ],
 "metadata": {
  "kernelspec": {
   "display_name": "Python 3 (ipykernel)",
   "language": "python",
   "name": "python3"
  },
  "language_info": {
   "codemirror_mode": {
    "name": "ipython",
    "version": 3
   },
   "file_extension": ".py",
   "mimetype": "text/x-python",
   "name": "python",
   "nbconvert_exporter": "python",
   "pygments_lexer": "ipython3",
   "version": "3.9.7"
  }
 },
 "nbformat": 4,
 "nbformat_minor": 5
}
