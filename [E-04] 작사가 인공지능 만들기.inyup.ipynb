{
 "cells": [
  {
   "cell_type": "code",
   "execution_count": 1,
   "id": "0869afbe",
   "metadata": {},
   "outputs": [],
   "source": [
    "import re\n",
    "import glob\n",
    "import numpy as np         \n",
    "import tensorflow as tf    \n",
    "import os\n",
    "\n",
    "txt_file_path = os.getenv('HOME')+'/aiffel/lyricist/data/lyrics/*'\n",
    "\n",
    "txt_list = glob.glob(txt_file_path)\n",
    "\n",
    "raw_corpus = []"
   ]
  },
  {
   "cell_type": "markdown",
   "id": "62bd585f",
   "metadata": {},
   "source": [
    "glob모듈이 파일을 읽어오는 작업을 하기 유용하니까 사용하자.\n",
    "작사가 인공지능 만들기는 결국 텍스트 데이터를 사용하는거니까\n",
    "텍스트파일을 가져오자."
   ]
  },
  {
   "cell_type": "code",
   "execution_count": 2,
   "id": "8f1f0937",
   "metadata": {},
   "outputs": [
    {
     "name": "stdout",
     "output_type": "stream",
     "text": [
      "데이터 크기: 187088\n",
      "Examples:\n",
      " [\"Now I've heard there was a secret chord\", 'That David played, and it pleased the Lord', \"But you don't really care for music, do you?\"]\n"
     ]
    }
   ],
   "source": [
    "for txt_file in txt_list:\n",
    "    with open(txt_file, \"r\") as f:\n",
    "        raw = f.read().splitlines()\n",
    "        raw_corpus.extend(raw)\n",
    "\n",
    "print(\"데이터 크기:\", len(raw_corpus))\n",
    "print(\"Examples:\\n\", raw_corpus[:3])"
   ]
  },
  {
   "cell_type": "markdown",
   "id": "30511c58",
   "metadata": {},
   "source": [
    "텍스트 파일들을 모두 읽어서 raw_corpus에 담는 작업을 한다\n",
    "데이터의 크기는 총 187088개다\n",
    "예시의 문장들을 3개 가져와보면 위에 문장이 나온다."
   ]
  },
  {
   "cell_type": "code",
   "execution_count": 3,
   "id": "c092b792",
   "metadata": {
    "scrolled": true
   },
   "outputs": [
    {
     "name": "stdout",
     "output_type": "stream",
     "text": [
      "Now I've heard there was a secret chord\n",
      "That David played, and it pleased the Lord\n",
      "But you don't really care for music, do you?\n",
      "It goes like this\n",
      "The fourth, the fifth\n",
      "The minor fall, the major lift\n",
      "The baffled king composing Hallelujah Hallelujah\n",
      "Hallelujah\n",
      "Hallelujah\n",
      "Hallelujah Your faith was strong but you needed proof\n"
     ]
    }
   ],
   "source": [
    "for idx, sentence in enumerate(raw_corpus):\n",
    "    # 길이가 0이면 패스\n",
    "    if len(sentence) == 0: continue\n",
    "    # 문장의 끝이 :이면 패스\n",
    "    if sentence[-1] == \":\": continue \n",
    "    #10개 문장만 먼저 보겠습니다.\n",
    "    if idx >9: break \n",
    "        \n",
    "    print(sentence)"
   ]
  },
  {
   "cell_type": "markdown",
   "id": "724b8e30",
   "metadata": {},
   "source": [
    "raw_corpus에 담겨있는 텍스트파일을 가져오자\n",
    "문장 끝이 :이면 건너뛰는 기호이기 때문에 \n",
    "다음문장을 가져오는거 같다.\n",
    "그래서 10개 문장을 가져오면 10줄 문장이 나온다."
   ]
  },
  {
   "cell_type": "code",
   "execution_count": 4,
   "id": "22d9b374",
   "metadata": {},
   "outputs": [
    {
     "name": "stdout",
     "output_type": "stream",
     "text": [
      "<start> this is sample sentence . <end>\n"
     ]
    }
   ],
   "source": [
    "def preprocess_sentence(sentence):\n",
    "    #일단 모두 소문자로 변환하고 양쪽 공백을 지웁니다.\n",
    "    sentence = sentence.lower().strip()   \n",
    "    # 아래 특수문자 기호 양쪽에 공백을 추가합니다.\n",
    "    sentence = re.sub(r\"([?.!,¿])\", r\" \\1 \", sentence) \n",
    "     # 공백이 많을 수 있는 부분에는 하나의 공백으로 통일합니다.\n",
    "    sentence = re.sub(r'[\" \"]+', \" \", sentence) \n",
    "     # \"\"안에 들어가있는 기호들 외에 공백으로 바꿉니다.\n",
    "    sentence = re.sub(r\"[^a-zA-Z?.!,¿]+\", \" \", sentence) \n",
    "    #다시 양쪽 공백을 지웁니다.\n",
    "    sentence = sentence.strip()\n",
    "    # 문장 시작과 끝에 start와 end 를 추가합니다.\n",
    "    sentence = '<start> ' + sentence + ' <end>'     \n",
    "    \n",
    "    return sentence\n",
    "\n",
    "# 아래 같이 결측치 투성이인 문장이 어떻게 변하는지 확인합니다.\n",
    "print(preprocess_sentence(\"This @_is ;;;sample        sentence.\"))"
   ]
  },
  {
   "cell_type": "markdown",
   "id": "934e3107",
   "metadata": {},
   "source": [
    "특수문자와 공백을 제거해서 우리가 원하는 데이터만 추출해본다음\n",
    "문장의 시작과 끝의 정보를 넣어주면 위에 결과처럼 스타트, 앤드가 나온다"
   ]
  },
  {
   "cell_type": "code",
   "execution_count": 5,
   "id": "c5b0ff14",
   "metadata": {},
   "outputs": [
    {
     "data": {
      "text/plain": [
       "['<start> now i ve heard there was a secret chord <end>',\n",
       " '<start> that david played , and it pleased the lord <end>',\n",
       " '<start> but you don t really care for music , do you ? <end>',\n",
       " '<start> it goes like this <end>',\n",
       " '<start> the fourth , the fifth <end>',\n",
       " '<start> the minor fall , the major lift <end>',\n",
       " '<start> the baffled king composing hallelujah hallelujah <end>',\n",
       " '<start> hallelujah <end>',\n",
       " '<start> hallelujah <end>',\n",
       " '<start> hallelujah your faith was strong but you needed proof <end>']"
      ]
     },
     "execution_count": 5,
     "metadata": {},
     "output_type": "execute_result"
    }
   ],
   "source": [
    "corpus = []\n",
    "\n",
    "for sentence in raw_corpus:\n",
    "    if len(sentence) == 0: continue\n",
    "    if sentence[-1] == \":\": continue\n",
    "        \n",
    "    corpus.append(preprocess_sentence(sentence))\n",
    "        \n",
    "corpus[:10]"
   ]
  },
  {
   "cell_type": "markdown",
   "id": "ccb7e397",
   "metadata": {},
   "source": [
    "특수문자가 제거되었다 "
   ]
  },
  {
   "cell_type": "code",
   "execution_count": 6,
   "id": "5f049043",
   "metadata": {},
   "outputs": [
    {
     "name": "stdout",
     "output_type": "stream",
     "text": [
      "[[   2   50    5 ...    0    0    0]\n",
      " [   2   17 2639 ...    0    0    0]\n",
      " [   2   36    7 ...    0    0    0]\n",
      " ...\n",
      " [   2  130    5 ...    0    0    0]\n",
      " [ 287   79  162 ...  877  647    3]\n",
      " [   2    7   34 ...    0    0    0]] <keras_preprocessing.text.Tokenizer object at 0x7fcfb1e81640>\n"
     ]
    }
   ],
   "source": [
    "def tokenize(corpus):\n",
    "    # 텐서플로의 토크마이저를 이용해서 12000개 단어 개수를 숫자로 바꿔줍니다.\n",
    "    tokenizer = tf.keras.preprocessing.text.Tokenizer(\n",
    "        # 전체 단어의 개수 \n",
    "        num_words=12000,  \n",
    "        #이 함수에서 제공하는 문장 전처리 (하지만 우린 이미 진행해서 사용안함)\n",
    "        filters=' ',   \n",
    "        #12000단어에 속하지 않으면 unk로 바꿔숩니다.\n",
    "        oov_token=\"<unk>\" \n",
    "    )\n",
    "    #위에서 만든 문장을 토크마이저에 넣어 데이터를 구축합니다.\n",
    "    tokenizer.fit_on_texts(corpus)\n",
    "    tensor = tokenizer.texts_to_sequences(corpus) \n",
    "\t\n",
    "    #문장의 길이를 맞추고 숫자로 반환하기 위해 작업을 합니다.\n",
    "    # 문장의 길이는 가장 긴 문장을 기준으로 pandding합니다.\n",
    "    #여기서 maxien을 설정해 주었는데 이상치에 대응하기 할 수 있다고 합니다.\n",
    "    total_data_text = list(tensor)\n",
    "    num_tokens = [len(tokens) for tokens in total_data_text]\n",
    "    max_tokens = np.mean(num_tokens) + 2 * np.std(num_tokens)\n",
    "    maxlen = int(max_tokens)\n",
    "    \n",
    "    tensor = tf.keras.preprocessing.sequence.pad_sequences(tensor, \n",
    "                                                           padding='post',\n",
    "                                                          maxlen=maxlen)  \n",
    "\n",
    "    print(tensor,tokenizer)\n",
    "    return tensor, tokenizer\n",
    "\n",
    "tensor, tokenizer = tokenize(corpus)"
   ]
  },
  {
   "cell_type": "markdown",
   "id": "53c19bb0",
   "metadata": {},
   "source": [
    "다음으로 데이터를 토큰화 시켜주는 작업을 시켜주는데 여기서 단어장 크기 12000개로 하라고 했으니 설정한다.\n",
    "이건 문장을 쪼개서 기계가 이해할 수 있는 벡터로 변환시켜주는 과정이라고 한다.\n",
    "여기서 평균 길이보다 큰 outlier가 있을 수 있으므로 maxlen을 설정해 제거해준다."
   ]
  },
  {
   "cell_type": "code",
   "execution_count": 7,
   "id": "19f4efa9",
   "metadata": {},
   "outputs": [
    {
     "name": "stdout",
     "output_type": "stream",
     "text": [
      "1 : <unk>\n",
      "2 : <start>\n",
      "3 : <end>\n",
      "4 : ,\n",
      "5 : i\n",
      "6 : the\n",
      "7 : you\n",
      "8 : and\n",
      "9 : a\n",
      "10 : to\n",
      "11 : it\n"
     ]
    }
   ],
   "source": [
    "for idx in tokenizer.index_word:\n",
    "    print(idx, \":\", tokenizer.index_word[idx])\n",
    "\n",
    "    if idx > 10: break"
   ]
  },
  {
   "cell_type": "markdown",
   "id": "f132deea",
   "metadata": {},
   "source": [
    "토큰화시키니까 이렇게 나온다."
   ]
  },
  {
   "cell_type": "code",
   "execution_count": 8,
   "id": "f2d0562e",
   "metadata": {},
   "outputs": [
    {
     "name": "stdout",
     "output_type": "stream",
     "text": [
      "[   2   50    5   91  297   65   57    9  969 6042    3    0    0    0\n",
      "    0    0    0    0    0]\n",
      "[  50    5   91  297   65   57    9  969 6042    3    0    0    0    0\n",
      "    0    0    0    0    0]\n"
     ]
    }
   ],
   "source": [
    "#마지막 토큰을 잘라냅니다. 위에서 end라고 설정했지만 문장 길이 상 pad인 것이 많을 것입니다.\n",
    "src_input = tensor[:, :-1]\n",
    "#앞에 start부분을 자릅니다. \n",
    "tgt_input = tensor[:, 1:]\n",
    "print(src_input[0])\n",
    "print(tgt_input[0])"
   ]
  },
  {
   "cell_type": "markdown",
   "id": "c62c6c50",
   "metadata": {},
   "source": [
    "길이를 20으로 맞추고 나머지 빈칸 부분을 0으로 한다.\n",
    "가로 칸에 갯수를 세 보면 19개다."
   ]
  },
  {
   "cell_type": "code",
   "execution_count": 9,
   "id": "7c5a7aa1",
   "metadata": {},
   "outputs": [],
   "source": [
    "from sklearn.model_selection import train_test_split\n",
    "enc_train, enc_val, dec_train, dec_val = train_test_split(src_input, \n",
    "                                                          tgt_input,\n",
    "                                                          test_size=0.2,\n",
    "                                                          shuffle=True, \n",
    "                                                          random_state=34)"
   ]
  },
  {
   "cell_type": "markdown",
   "id": "5db80cdf",
   "metadata": {},
   "source": [
    "여기서 훈련 데이터 셋이랑 테스터 데이터 셋을 분리시켜준다"
   ]
  },
  {
   "cell_type": "code",
   "execution_count": 10,
   "id": "db37d864",
   "metadata": {},
   "outputs": [
    {
     "name": "stdout",
     "output_type": "stream",
     "text": [
      "Source Train:  (140599, 19)\n",
      "Target Train:  (140599, 19)\n"
     ]
    }
   ],
   "source": [
    "print('Source Train: ', enc_train.shape)\n",
    "print('Target Train: ', dec_train.shape)"
   ]
  },
  {
   "cell_type": "code",
   "execution_count": 11,
   "id": "4f8b12a5",
   "metadata": {},
   "outputs": [],
   "source": [
    "from tensorflow.keras.layers import Embedding, LSTM, Dense"
   ]
  },
  {
   "cell_type": "code",
   "execution_count": 12,
   "id": "69f610f7",
   "metadata": {},
   "outputs": [
    {
     "name": "stdout",
     "output_type": "stream",
     "text": [
      "Epoch 1/10\n",
      "550/550 [==============================] - 385s 664ms/step - loss: 3.2136 - val_loss: 2.8382\n",
      "Epoch 2/10\n",
      "550/550 [==============================] - 371s 674ms/step - loss: 2.7136 - val_loss: 2.6180\n",
      "Epoch 3/10\n",
      "550/550 [==============================] - 374s 680ms/step - loss: 2.5330 - val_loss: 2.4800\n",
      "Epoch 4/10\n",
      "550/550 [==============================] - 375s 682ms/step - loss: 2.3908 - val_loss: 2.3669\n",
      "Epoch 5/10\n",
      "550/550 [==============================] - 376s 683ms/step - loss: 2.2592 - val_loss: 2.2767\n",
      "Epoch 6/10\n",
      "550/550 [==============================] - 375s 683ms/step - loss: 2.1362 - val_loss: 2.2063\n",
      "Epoch 7/10\n",
      "550/550 [==============================] - 376s 684ms/step - loss: 2.0183 - val_loss: 2.1478\n",
      "Epoch 8/10\n",
      "550/550 [==============================] - 376s 684ms/step - loss: 1.9023 - val_loss: 2.0932\n",
      "Epoch 9/10\n",
      "550/550 [==============================] - 377s 685ms/step - loss: 1.7858 - val_loss: 2.0482\n",
      "Epoch 10/10\n",
      "550/550 [==============================] - 376s 685ms/step - loss: 1.6714 - val_loss: 2.0133\n"
     ]
    }
   ],
   "source": [
    "class TextGenerator(tf.keras.Model):\n",
    "    def __init__(self, vocab_size, embedding_size, hidden_size):\n",
    "        super(TextGenerator, self).__init__()\n",
    "        \n",
    "        self.embedding = Embedding(vocab_size, embedding_size)\n",
    "        self.rnn_1 = LSTM(hidden_size, return_sequences=True)\n",
    "        self.rnn_2 = LSTM(hidden_size, return_sequences=True)\n",
    "        self.linear = Dense(vocab_size)\n",
    "        \n",
    "    def call(self, x):\n",
    "        out = self.embedding(x)\n",
    "        out = self.rnn_1(out)\n",
    "        out = self.rnn_2(out)\n",
    "        out = self.linear(out)\n",
    "        \n",
    "        return out\n",
    "#문장을 토큰으로 했을 때 19이므로 19로 구성했습니다.\n",
    "embedding_size = 19\n",
    "hidden_size = 2048\n",
    "\n",
    "#여기서 tokenizer.num_words + 1를 했는데 그 이유는 문장에 없는 pad 가 넣어졌기 때문입니다.\n",
    "#문장길이를 모두 통일 하기 위해 가장 긴문장 말고는 모든 토큰이 0으로 들어간 부분 때문입니다.\n",
    "model = TextGenerator(tokenizer.num_words + 1, embedding_size , hidden_size)\n",
    "\n",
    "history = []\n",
    "epochs = 10\n",
    "\n",
    "optimizer = tf.keras.optimizers.Adam()\n",
    "\n",
    "loss = tf.keras.losses.SparseCategoricalCrossentropy(\n",
    "    from_logits=True,\n",
    "    reduction='none'\n",
    ")\n",
    "model.compile(loss=loss, optimizer=optimizer)\n",
    "\n",
    "history = model.fit(enc_train, \n",
    "          dec_train, \n",
    "          epochs=epochs,\n",
    "          batch_size=256,\n",
    "          validation_data=(enc_val, dec_val),\n",
    "          verbose=1)"
   ]
  },
  {
   "cell_type": "markdown",
   "id": "05ac6742",
   "metadata": {},
   "source": [
    "그리고 테스트를 하기 위해 테스트 생성 모델을 정의해주고\n",
    "학습을 10번 시켜보았다.\n",
    "너무 오래걸린다. 그래도 손실이 2.0133까지 떨어졌다."
   ]
  },
  {
   "cell_type": "code",
   "execution_count": 13,
   "id": "af5fba90",
   "metadata": {},
   "outputs": [
    {
     "name": "stdout",
     "output_type": "stream",
     "text": [
      "Model: \"text_generator\"\n",
      "_________________________________________________________________\n",
      "Layer (type)                 Output Shape              Param #   \n",
      "=================================================================\n",
      "embedding (Embedding)        multiple                  228019    \n",
      "_________________________________________________________________\n",
      "lstm (LSTM)                  multiple                  16941056  \n",
      "_________________________________________________________________\n",
      "lstm_1 (LSTM)                multiple                  33562624  \n",
      "_________________________________________________________________\n",
      "dense (Dense)                multiple                  24590049  \n",
      "=================================================================\n",
      "Total params: 75,321,748\n",
      "Trainable params: 75,321,748\n",
      "Non-trainable params: 0\n",
      "_________________________________________________________________\n"
     ]
    }
   ],
   "source": [
    "BUFFER_SIZE = len(src_input)\n",
    "BATCH_SIZE = 256\n",
    "steps_per_epoch = len(src_input) // BATCH_SIZE\n",
    "\n",
    "VOCAB_SIZE = tokenizer.num_words + 1   \n",
    "\n",
    "dataset = tf.data.Dataset.from_tensor_slices((src_input, tgt_input))\n",
    "dataset = dataset.shuffle(BUFFER_SIZE)\n",
    "dataset = dataset.batch(BATCH_SIZE, drop_remainder=True)\n",
    "for src_sample, tgt_sample in dataset.take(1): break\n",
    "\n",
    "# 한 배치만 불러온 데이터를 모델에 넣어봅니다\n",
    "model(src_sample)\n",
    "\n",
    "model.summary()"
   ]
  },
  {
   "cell_type": "markdown",
   "id": "65a5489e",
   "metadata": {},
   "source": [
    "위에 구축한 모델 summary를 한번 확인해보기 위해 데이터 한개를 model에 넣어 summary를\n",
    "확인해봤다.\n",
    "백만이라서 학습이 오래걸렸나?\n",
    "한개당 5분 잡아서 총 50분동안 학습시켰는데"
   ]
  },
  {
   "cell_type": "code",
   "execution_count": 14,
   "id": "438ad088",
   "metadata": {},
   "outputs": [],
   "source": [
    "def generate_text(model, tokenizer, init_sentence=\"<start>\", max_len=20):\n",
    "    # 테스트를 위해서 입력받은 init_sentence도 일단 텐서로 변환합니다.\n",
    "    test_input = tokenizer.texts_to_sequences([init_sentence])\n",
    "    test_tensor = tf.convert_to_tensor(test_input, dtype=tf.int64)\n",
    "    end_token = tokenizer.word_index[\"<end>\"]\n",
    "\n",
    "    # 텍스트를 실제로 생성할때는 루프를 돌면서 단어 하나씩 생성해야 합니다. \n",
    "    while True:\n",
    "        predict = model(test_tensor)  # 입력받은 문장의 텐서를 입력합니다. \n",
    "        predict_word = tf.argmax(tf.nn.softmax(predict, axis=-1), axis=-1)[:, -1]   # 우리 모델이 예측한 마지막 단어가 바로 새롭게 생성한 단어가 됩니다. \n",
    "\n",
    "        # 우리 모델이 새롭게 예측한 단어를 입력 문장의 뒤에 붙여 줍니다. \n",
    "        test_tensor = tf.concat([test_tensor, tf.expand_dims(predict_word, axis=0)], axis=-1)\n",
    "\n",
    "        # 우리 모델이 <END>를 예측하지 않았거나, max_len에 도달하지 않았다면  while 루프를 또 돌면서 다음 단어를 예측해야 합니다.\n",
    "        if predict_word.numpy()[0] == end_token: break\n",
    "        if test_tensor.shape[1] >= max_len: break\n",
    "\n",
    "    generated = \"\"\n",
    "    # 생성된 tensor 안에 있는 word index를 tokenizer.index_word 사전을 통해 실제 단어로 하나씩 변환합니다. \n",
    "    for word_index in test_tensor[0].numpy():\n",
    "        generated += tokenizer.index_word[word_index] + \" \"\n",
    "    return generated"
   ]
  },
  {
   "cell_type": "markdown",
   "id": "d902261c",
   "metadata": {},
   "source": [
    "그래서 위에서 학습한 결과를 가지고 어떤 문장이 나오는지 한번 확인해 봐야겠다\n",
    "\"i love\"로 시작해서 최대 20칸 안에 어떤 문장이 나올까?\n"
   ]
  },
  {
   "cell_type": "code",
   "execution_count": 15,
   "id": "15920cb8",
   "metadata": {},
   "outputs": [
    {
     "data": {
      "text/plain": [
       "'<start> i love you <end> '"
      ]
     },
     "execution_count": 15,
     "metadata": {},
     "output_type": "execute_result"
    }
   ],
   "source": [
    "generate_text(model, tokenizer, init_sentence=\"<start> i love\", max_len=20)"
   ]
  },
  {
   "cell_type": "code",
   "execution_count": 16,
   "id": "cbb7b894",
   "metadata": {},
   "outputs": [],
   "source": [
    "import matplotlib.pyplot as plt\n",
    "def plot_curve(epochs, hist, list_of_metrics):\n",
    "    \n",
    "    fig, ax = plt.subplots(1,2,figsize = (12, 8))\n",
    "    \n",
    "    for i in range(len(ax)):\n",
    "        ax[i].set_xlabel('Epochs')\n",
    "        ax[i].set_ylabel('Value')\n",
    "        \n",
    "        for n in range(len(list_of_metrics)):\n",
    "            if i == 0:\n",
    "                y = hist[list_of_metrics[n]]\n",
    "                if n == 0:\n",
    "                    ax[i].plot(epochs, y, label=\"train\")\n",
    "                else:\n",
    "                    ax[i].plot(epochs, y, label=\"val\")\n",
    "                ax[i].set_title('Loss')\n",
    "                ax[i].legend(loc='upper right')\n",
    "                if n == 1:\n",
    "                    break\n",
    "            else:\n",
    "                if n >= 2:\n",
    "                    y = hist[list_of_metrics[n]]\n",
    "                    if n == 2:\n",
    "                        ax[i].plot(epochs, y, label=\"train\")\n",
    "                    else:\n",
    "                        ax[i].plot(epochs, y, label=\"val\")\n",
    "                    ax[i].set_title('Accuracy')\n",
    "                    ax[i].legend(loc='lower right')\n",
    "                    \n",
    "    plt.show()"
   ]
  },
  {
   "cell_type": "markdown",
   "id": "8606d721",
   "metadata": {},
   "source": [
    "학습한 수에 따른 손실률 변화에 대한 그래프를 보고 싶을 때\n"
   ]
  },
  {
   "cell_type": "code",
   "execution_count": 17,
   "id": "3d8abb26",
   "metadata": {},
   "outputs": [
    {
     "data": {
      "image/png": "[encoded data removed]",
      "text/plain": [
       "<Figure size 864x576 with 2 Axes>"
      ]
     },
     "metadata": {
      "needs_background": "light"
     },
     "output_type": "display_data"
    }
   ],
   "source": [
    "plot_curve(history.epoch, history.history, ['loss', 'val_loss'])"
   ]
  },
  {
   "cell_type": "markdown",
   "id": "303e019c",
   "metadata": {},
   "source": [
    "여기까지 혼자서 해봤는데 정말 어려웠다..\n",
    "인터넷 찾아보면서 했는데 왜 저 학습 손실은 2에서 떨어지지 않을까..?\n",
    "근데 학습량이 많아서 그런지 너무 느려서 더 늘리지 못하겠다...\n",
    "아니면 내가 잘못된건가..?\n",
    "물어보고 싶은데 뭐부터 물어봐야 될지 모르겠당."
   ]
  },
  {
   "cell_type": "code",
   "execution_count": null,
   "id": "5c06fc0a",
   "metadata": {},
   "outputs": [],
   "source": []
  },
  {
   "cell_type": "code",
   "execution_count": null,
   "id": "3912d631",
   "metadata": {},
   "outputs": [],
   "source": []
  },
  {
   "cell_type": "code",
   "execution_count": null,
   "id": "6ff3a5e3",
   "metadata": {},
   "outputs": [],
   "source": []
  },
  {
   "cell_type": "code",
   "execution_count": null,
   "id": "67952db7",
   "metadata": {},
   "outputs": [],
   "source": []
  }
 ],
 "metadata": {
  "kernelspec": {
   "display_name": "Python 3 (ipykernel)",
   "language": "python",
   "name": "python3"
  },
  "language_info": {
   "codemirror_mode": {
    "name": "ipython",
    "version": 3
   },
   "file_extension": ".py",
   "mimetype": "text/x-python",
   "name": "python",
   "nbconvert_exporter": "python",
   "pygments_lexer": "ipython3",
   "version": "3.9.7"
  }
 },
 "nbformat": 4,
 "nbformat_minor": 5
}
